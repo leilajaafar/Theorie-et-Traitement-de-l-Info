{
 "cells": [
  {
   "cell_type": "markdown",
   "id": "3c27772e-13ce-4d3a-b77e-6b5fc3be8b1c",
   "metadata": {},
   "source": [
    "# TP 2 Theorie et Traitement de l'Information\n",
    "## MGSI 4 - JAAFAR Leila"
   ]
  },
  {
   "cell_type": "code",
   "execution_count": 12,
   "id": "94d0f83c-9bbc-44b3-bf39-bc0edd3f6e8b",
   "metadata": {},
   "outputs": [],
   "source": [
    "import numpy as np"
   ]
  },
  {
   "cell_type": "markdown",
   "id": "aeb05f93-85cd-4241-a3e5-68eae6ff0c7b",
   "metadata": {},
   "source": [
    "## exercice 1"
   ]
  },
  {
   "cell_type": "code",
   "execution_count": 41,
   "id": "0582a052-6d1e-4720-a1ee-eb908224868b",
   "metadata": {},
   "outputs": [
    {
     "name": "stdout",
     "output_type": "stream",
     "text": [
      "calculs vectoriels:\n",
      " la somme: [3 3 3]\n",
      " la difference: [1 3 5]\n",
      " le produit scalaire: -2\n",
      " le produit vectoriel: [-3  6 -3]\n"
     ]
    }
   ],
   "source": [
    "# creation des vecteurs\n",
    "v1 = np.array([2,3,4])\n",
    "v2 = np.array([1,0,-1])\n",
    "# somme\n",
    "sum_vectors = np.add(v1,v2)\n",
    "# difference\n",
    "subst_vectors = np.subtract(v1,v2)\n",
    "# produit scalaire\n",
    "prod_scalaire = np.vdot(v1, v2)\n",
    "# produit vectoriel\n",
    "prod_vectoriel = np.cross(v1, v2)\n",
    "# print\n",
    "print(f'calculs vectoriels:\\n la somme: {sum_vectors}\\n la difference: {subst_vectors}\\n le produit scalaire: {prod_scalaire}\\n le produit vectoriel: {prod_vectoriel}')"
   ]
  },
  {
   "cell_type": "markdown",
   "id": "1cfa85b4-8768-4a11-a6a7-347ea8f6543d",
   "metadata": {},
   "source": [
    "*On applique des calculs simples sur les vecteurs v1 et v2 et on print les resultats*"
   ]
  },
  {
   "cell_type": "markdown",
   "id": "773c2e14-0b91-4c32-8312-d7557a7d5771",
   "metadata": {},
   "source": [
    "## exercice 2"
   ]
  },
  {
   "cell_type": "code",
   "execution_count": 77,
   "id": "5617b423-cfcc-4314-beec-ff2829979d8f",
   "metadata": {},
   "outputs": [
    {
     "name": "stdout",
     "output_type": "stream",
     "text": [
      "le vecteur normalisee: [ 0.78446454 -0.58834841  0.19611614]\n",
      "l'angle entre v et u en radians est: 1.432 et en degre: 82.029\n"
     ]
    }
   ],
   "source": [
    "v = np.array([4,-3,1])\n",
    "# calcul de norme\n",
    "norme_v = np.linalg.norm(v)\n",
    "# normalisation du vecteur\n",
    "normalisee = v / norme_v\n",
    "print(f'le vecteur normalisee: {normalisee:}')\n",
    "\n",
    "# angle entre v et u\n",
    "u = np.array([1,1,0])\n",
    "\n",
    "produit_scalaire = np.vdot(v,u)\n",
    "norme_u = np.linalg.norm(u)\n",
    "\n",
    "cos_angle = produit_scalaire / (norme_v * norme_u)\n",
    "angle_rad = np.arccos(cos_angle)\n",
    "angle_deg = np.degrees(angle_rad)\n",
    "\n",
    "print(f'l\\'angle entre v et u en radians est: {angle_rad:.3f} et en degre: {angle_deg:.3f}')"
   ]
  },
  {
   "cell_type": "markdown",
   "id": "0750a342-3b3d-4b89-b561-413e2901d275",
   "metadata": {},
   "source": [
    "*On obtient le vecteur unitaire en divisant le vecteur par sa norme.*\n",
    "*On suit la regle du produit scalaire: ||x||.||y||.cos(theta) afin de trouver le cos et par suite l'angle avec arccos.*"
   ]
  },
  {
   "cell_type": "markdown",
   "id": "4f47e8cc-2874-4e57-871a-031ca3028811",
   "metadata": {},
   "source": [
    "## exercice 3"
   ]
  },
  {
   "cell_type": "code",
   "execution_count": 203,
   "id": "18f873e5-e8c1-4ba5-887a-8e48fcd0bcca",
   "metadata": {},
   "outputs": [
    {
     "name": "stdout",
     "output_type": "stream",
     "text": [
      "calcul matriciel:\n",
      " 1- la matrice A:\n",
      " [[1 2 3]\n",
      " [4 5 6]\n",
      " [7 8 9]] et la matrice B:\n",
      " [[1. 1. 1.]\n",
      " [1. 1. 1.]\n",
      " [1. 1. 1.]]\n",
      "\n",
      "2- le premiere element de la premiere ligne de A: 1\n",
      "\n",
      "3- la derniere colonne est: [3 6 9]\n",
      "\n",
      "4- on multilplie A par 2:\n",
      " [[ 2  4  6]\n",
      " [ 8 10 12]\n",
      " [14 16 18]]\n",
      "\n",
      "5- la somme de tous les elements de A: 45\n",
      "\n",
      "7- l'addition de A et B:\n",
      " [[ 2.  3.  4.]\n",
      " [ 5.  6.  7.]\n",
      " [ 8.  9. 10.]]\n",
      "\n",
      "8- la multiplication de A et B:\n",
      " [[1. 2. 3.]\n",
      " [4. 5. 6.]\n",
      " [7. 8. 9.]]\n",
      "\n",
      "9- et finalement, la transposee:\n",
      " [[1 4 7]\n",
      " [2 5 8]\n",
      " [3 6 9]]\n"
     ]
    }
   ],
   "source": [
    "# 1\n",
    "A = np.arange(1,10).reshape(3,3)\n",
    "# 2\n",
    "premier = A[0,0]\n",
    "# 3\n",
    "derniere_col = A[:,-1]\n",
    "# 4\n",
    "A2 = np.multiply(A, 2)\n",
    "# 5\n",
    "somme_elements = np.sum(A)\n",
    "# 6\n",
    "B = np.ones((3,3))\n",
    "# 7\n",
    "addition_AB = np.add(A,B)\n",
    "# 8\n",
    "produit_AB = np.multiply(A,B)\n",
    "# 9\n",
    "transposee = np.transpose(A)\n",
    "# print\n",
    "print(f'''calcul matriciel:\\n 1- la matrice A:\\n {A} et la matrice B:\\n {B}\\n\n",
    "2- le premiere element de la premiere ligne de A: {premier}\\n\n",
    "3- la derniere colonne est: {derniere_col}\\n\n",
    "4- on multilplie A par 2:\\n {A2}\\n\n",
    "5- la somme de tous les elements de A: {somme_elements}\\n\n",
    "7- l\\'addition de A et B:\\n {addition_AB}\\n\n",
    "8- la multiplication de A et B:\\n {produit_AB}\\n\n",
    "9- et finalement, la transposee:\\n {transposee}''')"
   ]
  },
  {
   "cell_type": "markdown",
   "id": "4aa4070e-f1dc-45b4-88c3-237bd74b763e",
   "metadata": {},
   "source": [
    "*Apres creation des tableaux A et B, on applique des calculs matriciaux sur eux: addition, somme, multiplication par int et des deux matrices, et calcul de transposee. Ainsi que l'acces a des elements et colonnes precises.*"
   ]
  },
  {
   "cell_type": "markdown",
   "id": "84ddaefa-a7bc-4058-ac2e-e65696fb8d2b",
   "metadata": {},
   "source": [
    "## exercice 5"
   ]
  },
  {
   "cell_type": "code",
   "execution_count": 645,
   "id": "a422be93-7af4-4281-ad3f-7cb83aceb2e5",
   "metadata": {},
   "outputs": [
    {
     "name": "stdout",
     "output_type": "stream",
     "text": [
      "1- le determinant de a = 0\n",
      "2- les valeurs propres: [ 7.23606798e+00 -6.10622664e-16  2.76393202e+00]\n",
      " les vecteurs propres:\n",
      " [[-3.16227766e-01 -8.94427191e-01 -3.16227766e-01]\n",
      " [-6.32455532e-01  4.47213595e-01 -6.32455532e-01]\n",
      " [-7.07106781e-01  4.13828167e-17  7.07106781e-01]]\n",
      "4- la trace de a est:10\n",
      "3- la matrice; resultat de PDP^(-1) est:\n",
      " [[1. 2. 1.]\n",
      " [2. 4. 2.]\n",
      " [1. 2. 5.]]\n",
      " qui est egale a la matrice initiale et peut s'ecrire sous la forme PDP^(-1)\n"
     ]
    }
   ],
   "source": [
    "# 1\n",
    "a = np.array([[1,2,1],\n",
    "             [2,4,2],\n",
    "             [1,2,5]])\n",
    "# 2\n",
    "det_a = np.linalg.det(a).astype(int)\n",
    "print(f'1- le determinant de a = {det_a}')\n",
    "# 3\n",
    "valeurs = np.linalg.eig(a)\n",
    "print(f'2- les valeurs propres: {valeurs[0]}\\n les vecteurs propres:\\n {valeurs[1]}')\n",
    "# 5\n",
    "trace_a = np.trace(a)\n",
    "print(f'4- la trace de a est:{trace_a}')\n",
    "# 4\n",
    "# matrice diagonale\n",
    "D = np.diag(valeurs[0])\n",
    "# matrice des vecteurs propres\n",
    "P = valeurs[1]\n",
    "# matrice inverse\n",
    "P1 = np.linalg.inv(P)\n",
    "\n",
    "def diagonalisation(matrice):\n",
    "    if matrice.ndim + 1 == valeurs[0].shape[0]:\n",
    "        matrice_diag = P @ D @ P1\n",
    "        print(f'3- la matrice; resultat de PDP^(-1) est:\\n {matrice_diag}\\n qui est egale a la matrice initiale et peut s\\'ecrire sous la forme PDP^(-1)')\n",
    "    else:\n",
    "        print('On ne peut pas faire la diagonalisation!')\n",
    "        \n",
    "diagonalisation(a)\n"
   ]
  },
  {
   "cell_type": "markdown",
   "id": "e75387e0-68bd-49a2-a8fe-3f43c96b8edd",
   "metadata": {},
   "source": [
    "*afin de realiser la diagonalisation d'une matrice, il faut que:<br>\n",
    "1- la dimension de la matrice soit egale au nombre des valeurs propres<br>\n",
    "2- si cette condition est remplie, on doit calculer:<br>\n",
    "  a- la matrice diagonale (contenant les valeurs propres en diagonale.)<br>\n",
    "  b- la matrice des vecteurs propres et son inverse<br>\n",
    "  c- si le produit matriciel! de PDP^(-1) est egale a la matrice:<br>\n",
    "donc la matrice est diagonalisable et s'ecrit sous cette forme plus simple pour des calculs futurs.*"
   ]
  },
  {
   "cell_type": "markdown",
   "id": "20f00edf-1dcb-4477-b573-80d9a33eebde",
   "metadata": {},
   "source": [
    "## exercice 6"
   ]
  },
  {
   "cell_type": "code",
   "execution_count": 619,
   "id": "f1bf03e7-590b-4910-bb15-c3d1c95f4a15",
   "metadata": {},
   "outputs": [
    {
     "data": {
      "text/plain": [
       "{'max': 75,\n",
       " 'min': 5,\n",
       " 'somme': 600,\n",
       " 'produit': 3.9907054687499995e+22,\n",
       " 'moyenne': 40.0,\n",
       " 'medianne': 40.0,\n",
       " 'variance': 466.6666666666667,\n",
       " 'ecart type': 21.602468994692867,\n",
       " \"l'etendue\": 70.0,\n",
       " 'Q1': 22.5,\n",
       " 'Q2': 40.0,\n",
       " 'Q3': 57.5,\n",
       " '90th Percentile': 68.0}"
      ]
     },
     "execution_count": 619,
     "metadata": {},
     "output_type": "execute_result"
    }
   ],
   "source": [
    "# 1\n",
    "nombres = np.arange(5,80,5)\n",
    "# 2 \n",
    "max_nombres = np.max(nombres)\n",
    "min_nombres = np.min(nombres)\n",
    "# 3\n",
    "somme = np.sum(nombres)\n",
    "# il faut convertir les nombres en float\n",
    "nombres = nombres.astype(float)\n",
    "produit = np.prod(nombres).astype(float)\n",
    "# 4\n",
    "moyenne = np.mean(nombres)\n",
    "medianne = np.median(nombres)\n",
    "# 5\n",
    "variance = np.var(nombres)\n",
    "ecart_type = np.std(nombres)\n",
    "# 6\n",
    "etendue = np.ptp(nombres)\n",
    "# 7\n",
    "nombres_Q1 = np.percentile(nombres, 25)\n",
    "nombres_Q2 = np.percentile(nombres, 50)\n",
    "nombres_Q3 = np.percentile(nombres, 75)\n",
    "# 8\n",
    "nombres_90 = np.percentile(nombres, 90)\n",
    "# 9\n",
    "array1 = np.arange(5,55,5)\n",
    "array2 = np.arange(2,22,2)\n",
    "# 10\n",
    "covariance = np.cov(array1, array2)[0,1]\n",
    "# 11\n",
    "coeff_corr = np.corrcoef(array1, array2)[0,1]\n",
    "#print\n",
    "dict = {\n",
    "    \"max\": max_nombres,\n",
    "    \"min\": min_nombres,\n",
    "    \"somme\": somme,\n",
    "    \"produit\": produit,\n",
    "    \"moyenne\": moyenne,\n",
    "    \"medianne\": medianne,\n",
    "    \"variance\": variance,\n",
    "    \"ecart type\": ecart_type,\n",
    "    \"l'etendue\": etendue,\n",
    "    \"Q1\": nombres_Q1,\n",
    "    \"Q2\": nombres_Q2,\n",
    "    \"Q3\": nombres_Q3,\n",
    "    \"90th Percentile\": nombres_90,\n",
    "}\n",
    "dict"
   ]
  },
  {
   "cell_type": "code",
   "execution_count": 613,
   "id": "c5f7ec91-a3e0-4bb1-80bb-d0dbc216c62d",
   "metadata": {},
   "outputs": [
    {
     "name": "stdout",
     "output_type": "stream",
     "text": [
      "pour les arrays 1: [ 5 10 15 20 25 30 35 40 45 50] et 2: [ 2  4  6  8 10 12 14 16 18 20]:\n",
      "la covariance est egale a 91.667 et le coefficient de correlation\n",
      "de Pearson est 1.000\n"
     ]
    }
   ],
   "source": [
    "print(f'''pour les arrays 1: {array1} et 2: {array2}:\n",
    "la covariance est egale a {covariance:.3f} et le coefficient de correlation\n",
    "de Pearson est {coeff_corr:.3f}''')"
   ]
  },
  {
   "cell_type": "markdown",
   "id": "2ec62c68-2d12-40ca-9f8f-7a04ed1dd9c2",
   "metadata": {},
   "source": [
    "*- dans cet exercice, on applique de multiples methodes en relation avec la statistique. <br> - Afin de resoudre le probleme d'avoir un produit negatif a cause de la surcharge des calculs, il faut convertir les nombres en float.\n",
    "<br> - On utilise un dictionnaire pour le display pour ne pas trop charger le code avec le print.\n",
    "<br> - Finalement, il faut choisir le 0,1 pour covarience et coefficient puisque ces fonctions de maniere a renvoyer une matrice 2x2*"
   ]
  },
  {
   "cell_type": "markdown",
   "id": "acd74e72-fe63-4c8c-ad57-f9581cd84022",
   "metadata": {},
   "source": [
    "*fin du tp 2 - theorie et traitement de l'information*"
   ]
  }
 ],
 "metadata": {
  "kernelspec": {
   "display_name": "Python [conda env:base] *",
   "language": "python",
   "name": "conda-base-py"
  },
  "language_info": {
   "codemirror_mode": {
    "name": "ipython",
    "version": 3
   },
   "file_extension": ".py",
   "mimetype": "text/x-python",
   "name": "python",
   "nbconvert_exporter": "python",
   "pygments_lexer": "ipython3",
   "version": "3.12.7"
  }
 },
 "nbformat": 4,
 "nbformat_minor": 5
}
