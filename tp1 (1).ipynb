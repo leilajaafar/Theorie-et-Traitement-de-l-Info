{
 "cells": [
  {
   "cell_type": "markdown",
   "id": "eb77f3ff-9be4-4dba-b473-73ca918e43c6",
   "metadata": {},
   "source": [
    "# TP 1 - Theorie et Traitement de l'Information\n",
    "## MGSI 4 - JAAFAR Leila"
   ]
  },
  {
   "cell_type": "code",
   "execution_count": 241,
   "id": "fc4e5182-794e-43e4-8dbe-3a6866919966",
   "metadata": {},
   "outputs": [],
   "source": [
    "import scipy\n",
    "import numpy as np"
   ]
  },
  {
   "cell_type": "markdown",
   "id": "38bdb988-5b1c-450a-9047-8e5a8135fbd1",
   "metadata": {},
   "source": [
    "## exercice 1"
   ]
  },
  {
   "cell_type": "code",
   "execution_count": 264,
   "id": "6470af1a-8c26-4180-ae72-c674f5ce9d53",
   "metadata": {},
   "outputs": [
    {
     "data": {
      "text/plain": [
       "35"
      ]
     },
     "execution_count": 264,
     "metadata": {},
     "output_type": "execute_result"
    }
   ],
   "source": [
    "def fct(n):\n",
    "    s = 0\n",
    "    for i in range(1,n+1):\n",
    "        s += (2*i-1)**2\n",
    "    return s\n",
    "fct(3)"
   ]
  },
  {
   "cell_type": "markdown",
   "id": "7af504a6-9667-4c7a-a5f1-9e7ab0c66203",
   "metadata": {},
   "source": [
    "*on initialize s avec 0; avec i qui boucle autour de 1 jusqu'a on utilise return afin d'enregistrer notre fonction.*"
   ]
  },
  {
   "cell_type": "markdown",
   "id": "187dc361-498f-4928-9bf6-866ca1f097b7",
   "metadata": {},
   "source": [
    "## exercice 2"
   ]
  },
  {
   "cell_type": "code",
   "execution_count": 273,
   "id": "4d9e12e7-2248-4777-a284-c1863db6fe99",
   "metadata": {},
   "outputs": [
    {
     "name": "stdout",
     "output_type": "stream",
     "text": [
      "4\n",
      "12\n",
      "4\n"
     ]
    }
   ],
   "source": [
    "# a\n",
    "p = 4 \n",
    "def mult(x): \n",
    "    res = p*x \n",
    "    return res \n",
    "print(p) \n",
    "print(mult(3)) \n",
    "print(p) "
   ]
  },
  {
   "cell_type": "markdown",
   "id": "2cfe4525-ed7b-419d-b8ce-2d04ea89e191",
   "metadata": {},
   "source": [
    "*une variable globale; elle est defini hors de la fonction.*"
   ]
  },
  {
   "cell_type": "code",
   "execution_count": 275,
   "id": "3c6e2e0c-38d2-40d2-b5ac-16ff5aba9ddc",
   "metadata": {},
   "outputs": [
    {
     "name": "stdout",
     "output_type": "stream",
     "text": [
      "4\n",
      "15\n",
      "4\n"
     ]
    }
   ],
   "source": [
    "# b\n",
    "p=4\n",
    "def mult(x): \n",
    "    p=5 \n",
    "    res = p*x \n",
    "    return res \n",
    "print(p) \n",
    "print(mult(3)) \n",
    "print(p)"
   ]
  },
  {
   "cell_type": "markdown",
   "id": "aaa8ca81-142e-4eb8-8bac-5c71c76e6cec",
   "metadata": {},
   "source": [
    "*une variable globale; le code retourne la valeur 4, sauf dans l'interieur de la fct ou il applique sa variable local qui est non defini en dehors.*"
   ]
  },
  {
   "cell_type": "code",
   "execution_count": 8,
   "id": "0c590af5-c6cc-49e9-9b65-f1683ea7d312",
   "metadata": {},
   "outputs": [
    {
     "name": "stdout",
     "output_type": "stream",
     "text": [
      "4\n",
      "15\n",
      "5\n"
     ]
    }
   ],
   "source": [
    "# c\n",
    "p = 4 \n",
    "def mult(x): \n",
    "    global p \n",
    "    p=5 \n",
    "    res = p*x \n",
    "    return res \n",
    "print(p) \n",
    "print(mult(3)) \n",
    "print(p)\n"
   ]
  },
  {
   "cell_type": "markdown",
   "id": "5f370ec1-1f1e-4fda-b0ce-f100cf5ea551",
   "metadata": {},
   "source": [
    "*une variable globale; grace a l'addition du mot cle 'global' , qui la rend  defini en dehors de la fonction meme en etant declare a l'interieur de la fonction.*"
   ]
  },
  {
   "cell_type": "markdown",
   "id": "c91f8803-b0e6-4da3-90ae-618ac8264c58",
   "metadata": {},
   "source": [
    "## exercice 3"
   ]
  },
  {
   "cell_type": "code",
   "execution_count": 296,
   "id": "11754d44-08bf-4fe4-a141-72e1911f4e7d",
   "metadata": {},
   "outputs": [],
   "source": [
    "# question 1\n",
    "reduction50 = reduction30 = reduction20 = reduction0 = 0\n",
    "def reduction(age):\n",
    "    global reduction50, reduction30, reduction20, reduction0\n",
    "    if age <= 10:\n",
    "        reduction50 = 0.5\n",
    "        print(f'Votre reduction est de {reduction50*100}%')\n",
    "    elif age > 10 and age <= 18:\n",
    "        reduction30 = 0.3\n",
    "        print(f'Votre reduction est de {reduction30*100}%')\n",
    "    elif age >= 60:\n",
    "        reduction20 = 0.2\n",
    "        print(f'Votre reduction est de {reduction20*100}%')\n",
    "    else:\n",
    "        reduction0 = 1\n",
    "        print(\"Vous netes pas eligible davoir une reduction\")"
   ]
  },
  {
   "cell_type": "markdown",
   "id": "5f8f3ed0-d4c4-4e82-8d24-2484308a32c3",
   "metadata": {},
   "source": [
    "*on utilise une boucle if else en fonction de l'age. Pour l'intervalle d'age non inclu, il y aura pas de reduction. en fonction de l'age de voyageur, on aura une reduction qui sera affichee au voyageur en pourcentage*"
   ]
  },
  {
   "cell_type": "code",
   "execution_count": 298,
   "id": "f440d389-111c-4bf7-81a1-9ca44c9a7562",
   "metadata": {},
   "outputs": [],
   "source": [
    "# question 2\n",
    "def montant(montant, age):\n",
    "    if age <= 10:\n",
    "        montant_final = montant - montant*reduction50\n",
    "        print(f'Votre tarif initial de {montant} devient {montant_final}')\n",
    "    elif age > 10 and age <= 18:\n",
    "        montant_final = montant - montant*reduction30\n",
    "        print(f'Votre tarif initial de {montant} devient {montant_final}')\n",
    "    elif age >= 60:\n",
    "        montant_final = montant - montant*reduction20\n",
    "        print(f'Votre tarif initial de {montant} devient {montant_final}')\n",
    "    else:\n",
    "        print('Pas de reduction :(')"
   ]
  },
  {
   "cell_type": "markdown",
   "id": "b262c393-2d03-4301-a722-000e4e073e8d",
   "metadata": {},
   "source": [
    "*on calcule le montant en fonction du tarif initial et de l'age de voyageur,\n",
    "en utilisant les reductions deja defini en tant que variables globales*"
   ]
  },
  {
   "cell_type": "code",
   "execution_count": 308,
   "id": "01c20aaf-7dcb-473c-a28f-1eec223d34e4",
   "metadata": {},
   "outputs": [
    {
     "name": "stdout",
     "output_type": "stream",
     "text": [
      "Votre reduction est de 50.0%\n",
      "Vous netes pas eligible davoir une reduction\n",
      "Votre reduction est de 30.0%\n",
      "----------\n",
      "Votre tarif initial de 400 devient 200.0\n",
      "Votre tarif initial de 800 devient 560.0\n",
      "Pas de reduction :(\n"
     ]
    }
   ],
   "source": [
    "# question 3\n",
    "reduction(9)\n",
    "reduction(22)\n",
    "reduction(16)\n",
    "print('-'*10)\n",
    "montant(400, 9)\n",
    "montant(800, 17)\n",
    "montant(200, 23)"
   ]
  },
  {
   "cell_type": "markdown",
   "id": "145f8ffa-530f-4f71-a718-5ff0eeef02ff",
   "metadata": {},
   "source": [
    "*appel des fonctions reduction et montant. on a la reduction en fonction des ages.*"
   ]
  },
  {
   "cell_type": "markdown",
   "id": "5bc04dcc-2629-4e62-9567-22790fe02274",
   "metadata": {},
   "source": [
    "## exercice 4"
   ]
  },
  {
   "cell_type": "code",
   "execution_count": 320,
   "id": "bf8c2262-3a63-4a25-866c-bd0082e126ba",
   "metadata": {},
   "outputs": [
    {
     "data": {
      "text/plain": [
       "[1, 2, 3, 4, 5, 6, 7, 8, 9, 10]"
      ]
     },
     "execution_count": 320,
     "metadata": {},
     "output_type": "execute_result"
    }
   ],
   "source": [
    "# question 1\n",
    "nombres = list(range(1,11))\n",
    "nombres"
   ]
  },
  {
   "cell_type": "code",
   "execution_count": 322,
   "id": "9b499beb-9a3e-48a0-a46a-42c4ea5eabcc",
   "metadata": {},
   "outputs": [
    {
     "data": {
      "text/plain": [
       "[2, 3, 4, 5, 6, 7, 8, 9, 10, 11]"
      ]
     },
     "execution_count": 322,
     "metadata": {},
     "output_type": "execute_result"
    }
   ],
   "source": [
    "# question 2\n",
    "# a\n",
    "nombres = [x + 1 for x in nombres]\n",
    "nombres"
   ]
  },
  {
   "cell_type": "code",
   "execution_count": 324,
   "id": "cf274924-3e54-484d-b18b-293f483d7d89",
   "metadata": {},
   "outputs": [
    {
     "data": {
      "text/plain": [
       "[2, 3, 4, 5, 6, 7, 8, 9, 10, 11, 11, 12, 13]"
      ]
     },
     "execution_count": 324,
     "metadata": {},
     "output_type": "execute_result"
    }
   ],
   "source": [
    "# b\n",
    "nombres.append(11)\n",
    "nombres\n",
    "# c\n",
    "nombres.extend([12,13])\n",
    "nombres"
   ]
  },
  {
   "cell_type": "code",
   "execution_count": 326,
   "id": "f25b8608-3d1c-4390-ae7f-d59ea7cf99b3",
   "metadata": {},
   "outputs": [
    {
     "data": {
      "text/plain": [
       "(2, [2, 3], 13, [12, 13])"
      ]
     },
     "execution_count": 326,
     "metadata": {},
     "output_type": "execute_result"
    }
   ],
   "source": [
    "# d\n",
    "nombres[0], nombres[0:2], nombres[-1], nombres[-2:]"
   ]
  },
  {
   "cell_type": "code",
   "execution_count": 328,
   "id": "b3206f69-6130-4912-a8ce-e4b5f0ce580e",
   "metadata": {},
   "outputs": [
    {
     "name": "stdout",
     "output_type": "stream",
     "text": [
      "[2, 4, 6, 8, 10, 12]\n",
      "[3, 5, 7, 9, 11, 11, 13]\n"
     ]
    }
   ],
   "source": [
    "# e\n",
    "paires = [x for x in nombres if x % 2 == 0]\n",
    "impaires = [x for x in nombres if not x % 2 == 0]\n",
    "print(paires)\n",
    "print(impaires)"
   ]
  },
  {
   "cell_type": "code",
   "execution_count": 330,
   "id": "8391ab30-dab2-4192-ad7c-e7baf15ea01b",
   "metadata": {},
   "outputs": [
    {
     "data": {
      "text/plain": [
       "[13, 12, 11, 11, 10, 9, 8, 7, 6, 4, 3, 2]"
      ]
     },
     "execution_count": 330,
     "metadata": {},
     "output_type": "execute_result"
    }
   ],
   "source": [
    "# f\n",
    "nombres.remove(5)\n",
    "# g\n",
    "nombres.reverse()\n",
    "nombres"
   ]
  },
  {
   "cell_type": "code",
   "execution_count": 332,
   "id": "9c497d98-5438-4f57-a21b-2b0066959d14",
   "metadata": {},
   "outputs": [
    {
     "name": "stdout",
     "output_type": "stream",
     "text": [
      "Entrez un nombre au hasard\n"
     ]
    },
    {
     "name": "stdin",
     "output_type": "stream",
     "text": [
      " 7\n"
     ]
    },
    {
     "name": "stdout",
     "output_type": "stream",
     "text": [
      "le nombre est present dans la liste!\n"
     ]
    }
   ],
   "source": [
    "# h\n",
    "print('Entrez un nombre au hasard')\n",
    "num = int(input())\n",
    "if num in nombres:\n",
    "        print('le nombre est present dans la liste!')\n",
    "else:\n",
    "        print('le nombre nest pas present')"
   ]
  },
  {
   "cell_type": "markdown",
   "id": "41bd7bd9-fc18-49cb-ac33-8727e2d3ce85",
   "metadata": {},
   "source": [
    "*dans cet exercice sur les listes, on applique plusieurs methodes sur la liste afin de la manipuler.*"
   ]
  },
  {
   "cell_type": "markdown",
   "id": "1be69cfc-b1e7-4135-bec0-346139364bb6",
   "metadata": {},
   "source": [
    "## exercice 5"
   ]
  },
  {
   "cell_type": "code",
   "execution_count": 335,
   "id": "632ce96d-f9b1-4279-95ab-4ec5f92dbc16",
   "metadata": {},
   "outputs": [
    {
     "data": {
      "text/plain": [
       "{'filière': 'MGSI', 'année': 'quatrième', 'matière': 'Machine Learning'}"
      ]
     },
     "execution_count": 335,
     "metadata": {},
     "output_type": "execute_result"
    }
   ],
   "source": [
    "dict = {'filière': 'MGSI',\n",
    "        'année': 'quatrième',\n",
    "        'matière': 'informatique'}\n",
    "# question 1\n",
    "dict['matière'] = 'Machine Learning'\n",
    "dict"
   ]
  },
  {
   "cell_type": "code",
   "execution_count": 343,
   "id": "8e340da0-a5d6-4bb7-b457-07b8203cb8b2",
   "metadata": {},
   "outputs": [
    {
     "data": {
      "text/plain": [
       "['filière', 'année', 'matière']"
      ]
     },
     "execution_count": 343,
     "metadata": {},
     "output_type": "execute_result"
    }
   ],
   "source": [
    "# question 2\n",
    "list(dict.keys())"
   ]
  },
  {
   "cell_type": "code",
   "execution_count": 345,
   "id": "11865c2b-ea0e-41f9-b51a-5843ba6583d3",
   "metadata": {},
   "outputs": [
    {
     "data": {
      "text/plain": [
       "['MGSI', 'quatrième', 'Machine Learning']"
      ]
     },
     "execution_count": 345,
     "metadata": {},
     "output_type": "execute_result"
    }
   ],
   "source": [
    "# question 3\n",
    "list(dict.values())"
   ]
  },
  {
   "cell_type": "code",
   "execution_count": 347,
   "id": "efa237f4-726d-4c39-acc9-3341d12f454a",
   "metadata": {},
   "outputs": [
    {
     "name": "stdout",
     "output_type": "stream",
     "text": [
      "MGSI quatrième année, matière Machine Learning\n"
     ]
    }
   ],
   "source": [
    "# question 4\n",
    "print(f\"{dict['filière']} {dict['année']} année, matière {dict['matière']}\")\n",
    "\n",
    "# on utilise un print pour acceder au keys et values du dictionnaire."
   ]
  },
  {
   "cell_type": "markdown",
   "id": "c4e1a2db-237a-4742-a275-d119eb3c0c89",
   "metadata": {},
   "source": [
    "*on manipule le dictionnaire, ainsi, on accede au keys et valeurs dependant de notre objectif.*"
   ]
  },
  {
   "cell_type": "markdown",
   "id": "4db0b019-880c-4621-a31b-6d05f4002fe8",
   "metadata": {},
   "source": [
    "## exercice 6"
   ]
  },
  {
   "cell_type": "code",
   "execution_count": 350,
   "id": "9a3cce76-1bfa-412d-8532-d28e235c2aa3",
   "metadata": {},
   "outputs": [
    {
     "name": "stdout",
     "output_type": "stream",
     "text": [
      "70\n"
     ]
    }
   ],
   "source": [
    "# nombre aleatoire par ordinateur\n",
    "import random \n",
    "mystere = random.randint(1, 100) \n",
    "print(mystere)"
   ]
  },
  {
   "cell_type": "markdown",
   "id": "605f7eb6-6585-44a0-85a7-bac33a1f5345",
   "metadata": {},
   "source": [
    "*n.b: le print(mystere) ne fait pas partie du jeu. Cest juste pour specifier dans cet exemple que le code travaille sans probleme.*"
   ]
  },
  {
   "cell_type": "code",
   "execution_count": 355,
   "id": "ff851e35-3986-4748-9ef2-24f9f3623abd",
   "metadata": {},
   "outputs": [
    {
     "name": "stdout",
     "output_type": "stream",
     "text": [
      "Devinez le nombre mystere!\n"
     ]
    },
    {
     "name": "stdin",
     "output_type": "stream",
     "text": [
      " 55\n"
     ]
    },
    {
     "name": "stdout",
     "output_type": "stream",
     "text": [
      "Votre supposition est:55 \n",
      "55 est trop petit\n",
      "-----\n",
      "Devinez le nombre mystere!\n"
     ]
    },
    {
     "name": "stdin",
     "output_type": "stream",
     "text": [
      " 77\n"
     ]
    },
    {
     "name": "stdout",
     "output_type": "stream",
     "text": [
      "Votre supposition est:77 \n",
      "77 est trop grand!\n",
      "-----\n",
      "Devinez le nombre mystere!\n"
     ]
    },
    {
     "name": "stdin",
     "output_type": "stream",
     "text": [
      " 45\n"
     ]
    },
    {
     "name": "stdout",
     "output_type": "stream",
     "text": [
      "Votre supposition est:45 \n",
      "45 est trop petit\n",
      "-----\n",
      "Devinez le nombre mystere!\n"
     ]
    },
    {
     "name": "stdin",
     "output_type": "stream",
     "text": [
      " 70\n"
     ]
    },
    {
     "name": "stdout",
     "output_type": "stream",
     "text": [
      "Votre supposition est:70 \n",
      "Felicitations! Le nombre mystere est bien 70\n",
      "Vous avez trouvez le nombre mystere en 4 coups!\n"
     ]
    }
   ],
   "source": [
    "def jeu_deviner():\n",
    "    numero = None\n",
    "    s = 0\n",
    "    while numero != mystere:\n",
    "        print('Devinez le nombre mystere!')\n",
    "        numero = int(input())\n",
    "        print(f'Votre supposition est:{numero} ')\n",
    "        s=s+1\n",
    "\n",
    "        # gestion d'erreur\n",
    "        if not isinstance(numero, int) or numero not in range(1,101):\n",
    "            print('Veuillez entrer un nombre entre 1 et 100')\n",
    "            continue\n",
    "\n",
    "            print('-'*5)\n",
    "        if numero > mystere:\n",
    "            print(f'{numero} est trop grand!')\n",
    "            print('-'*5)\n",
    "        elif numero < mystere:\n",
    "            print(f'{numero} est trop petit')\n",
    "            print('-'*5)\n",
    "        elif numero == mystere:\n",
    "            print(f'Felicitations! Le nombre mystere est bien {numero}')\n",
    "            print(f'Vous avez trouvez le nombre mystere en {s} coups!')\n",
    "        # nombre de suppositions\n",
    "        \n",
    "jeu_deviner()\n",
    "    "
   ]
  },
  {
   "cell_type": "markdown",
   "id": "ef02170c-37af-4f8b-9d41-00e3b0bfbad6",
   "metadata": {},
   "source": [
    "*le code represente un jeu ou l'utilisateur doit deviner le nombre mysterieux generee par l'ordinateur. il aura une erreur si l'utilisateur choisi un nombre plus grand que 100 ou s'il entre un caractere/string.*"
   ]
  },
  {
   "cell_type": "markdown",
   "id": "af7fa8cf-5375-46fa-b0fe-d5ed498edf07",
   "metadata": {},
   "source": [
    "## exercice 7"
   ]
  },
  {
   "cell_type": "code",
   "execution_count": 358,
   "id": "f683bdee-9528-4032-a51e-04b23f209d03",
   "metadata": {},
   "outputs": [
    {
     "name": "stdout",
     "output_type": "stream",
     "text": [
      "ONE sultry evening early in July a young man emerged from the small furnished lodging he occupied in a large five-storied house in the Pereoulok S- and turned slowly, with an air of indecision, towards the K- bridge. He was fortunate enough not to meet his landlady on the stairs. She occupied the floor beneath him , and her kitchen, with its usually-open door, was entered from the staircase. Thus, whenever the young man went out, he found himself obliged to pass under the enemy's fire, which always produced a morbid terror, humiliating him and making him knit his brows. He owed her some money and felt afraid of encountering her. It was not that he had been terrified or crushed by misfortune, but that for some time past he had fallen into a state of nervous depression akin to hypochondria. He had withdrawn from society and shut himself up, till he was ready to shun, not merely his landlady, but every human face. Poverty had once weighed him down, though, of late, he had lost his sensitiveness on that score. He had given up all his daily occupations.\n",
      "In his heart of hearts he laughed scornfully at his landlady and the extremities to which she might proceed. Still, to be waylaid on the stairs, to have to listen to all her jargon, hear her\n",
      "demands, threats, and complaints, and have to make excuses and subterfuges in return-no, he preferred to steal down. without attracting notice. On this occasion, however, when he\n",
      "had gained the street, he felt surprised himself at this dread of meeting the woman to whom he was in debt.\n",
      "\n"
     ]
    }
   ],
   "source": [
    "# question 1 import fichiers text\n",
    "with open(r\"C:\\Users\\leila\\Downloads\\crimeenglish.txt\", \"r\") as file:\n",
    "    english = file.read() \n",
    "    print(english)\n",
    "with open(r\"C:\\Users\\leila\\Downloads\\crimefrancais.txt\", \"r\", encoding=\"utf-8\") as fichier:\n",
    "    francais = fichier.read()\n",
    "    #print(francais)"
   ]
  },
  {
   "cell_type": "markdown",
   "id": "8400e987-dbb4-4899-bd9c-9a9c61915f61",
   "metadata": {},
   "source": [
    "*on a 2 fichiers txt que j'ai inclu dans notebook sous le nom crimeenglish et crimefrancais, les deux incluent un extrait du premier chapitre du roman 'Crime et Chatiment'.*"
   ]
  },
  {
   "cell_type": "code",
   "execution_count": 361,
   "id": "b7adeb3e-ce90-465e-86b6-a6369220ad60",
   "metadata": {},
   "outputs": [
    {
     "name": "stdout",
     "output_type": "stream",
     "text": [
      "Counter({'e': 153, 't': 105, 'h': 96, 'a': 92, 'o': 90, 'n': 88, 'i': 85, 's': 78, 'r': 72, 'd': 63, 'l': 48, 'u': 41, 'm': 34, 'f': 29, 'c': 27, 'w': 27, 'y': 23, 'g': 23, 'p': 17, 'b': 12, 'v': 11, 'k': 7, 'j': 2, 'x': 2})\n",
      "\n",
      "Counter({'e': 194, 's': 109, 'a': 100, 'i': 95, 't': 94, 'n': 88, 'l': 79, 'r': 74, 'u': 70, 'o': 67, 'd': 52, 'c': 41, 'm': 40, 'p': 28, 'é': 24, 'v': 21, 'g': 14, 'q': 12, 'h': 11, 'b': 9, 'f': 9, 'à': 6, 'ê': 5, 'j': 4, 'x': 4, 'k': 2, 'y': 2, 'è': 2, 'û': 1})\n"
     ]
    }
   ],
   "source": [
    "# question 2\n",
    "from string import ascii_letters as letters\n",
    "from collections import Counter\n",
    "\n",
    "def occurence(chaine):\n",
    "    for c in letters:\n",
    "        chaine = chaine.lower()\n",
    "        chaine = ''.join(c for c in chaine if c.isalpha())        \n",
    "        dict_occurence = Counter(chaine)\n",
    "        return dict_occurence\n",
    "\n",
    "dict_english = occurence(english)\n",
    "print(dict_english)\n",
    "print('')\n",
    "dict_francais = occurence(francais)\n",
    "print(dict_francais)"
   ]
  },
  {
   "cell_type": "markdown",
   "id": "41173285-9e48-46d0-a76b-4f95790bcda4",
   "metadata": {},
   "source": [
    "*dans ce code, il est important de ne pas inclure les caracteres comme '-' et '\\n', sinon on aura des problemes dans le calcul de probabilites. aussi, afin de s'assurer du calcul, j'ai transformer le texte en lowercase afin d'avoir une harmonie en ce qui concernce la difference entre j ou J par exemple.*"
   ]
  },
  {
   "cell_type": "code",
   "execution_count": 364,
   "id": "9e368462-1928-484c-9f0d-b378d4866856",
   "metadata": {},
   "outputs": [
    {
     "name": "stdout",
     "output_type": "stream",
     "text": [
      "le nombre total des caracteres dans ce text anglais est: 1225\n",
      "le nombre total des caracteres dans ce text francais est: 1257\n"
     ]
    }
   ],
   "source": [
    "# nombre total des caracteres\n",
    "total_english = sum(dict_english.values())\n",
    "print(f'le nombre total des caracteres dans ce text anglais est: {total_english}')\n",
    "total_francais = sum(dict_francais.values())\n",
    "print(f'le nombre total des caracteres dans ce text francais est: {total_francais}')"
   ]
  },
  {
   "cell_type": "markdown",
   "id": "29ebf57a-aaf8-4a0b-bb1f-0f8ae0800f9a",
   "metadata": {},
   "source": [
    "*on calcule le nombre total des caracteres dans le texte de maniere a ne inclure QUE les lettres et non pas des signes de ponctuations, etc.*"
   ]
  },
  {
   "cell_type": "code",
   "execution_count": 367,
   "id": "94a94305-5f66-48b2-a079-08d74c7ad8cc",
   "metadata": {},
   "outputs": [
    {
     "name": "stdout",
     "output_type": "stream",
     "text": [
      "Dans le fichier anglais, la probabilite d'avoir le caractere:\n",
      "o est de 7.35%\n",
      "n est de 7.18%\n",
      "e est de 12.49%\n",
      "s est de 6.37%\n",
      "u est de 3.35%\n",
      "l est de 3.92%\n",
      "t est de 8.57%\n",
      "r est de 5.88%\n",
      "y est de 1.88%\n",
      "v est de 0.90%\n",
      "i est de 6.94%\n",
      "g est de 1.88%\n",
      "a est de 7.51%\n",
      "j est de 0.16%\n",
      "m est de 2.78%\n",
      "d est de 5.14%\n",
      "f est de 2.37%\n",
      "h est de 7.84%\n",
      "c est de 2.20%\n",
      "p est de 1.39%\n",
      "k est de 0.57%\n",
      "w est de 2.20%\n",
      "b est de 0.98%\n",
      "x est de 0.16%\n",
      "----------\n",
      "Dans le fichier francais, la probabilite d'avoir le caractere:\n",
      "a est de 7.96%\n",
      "u est de 5.57%\n",
      "c est de 3.26%\n",
      "o est de 5.33%\n",
      "m est de 3.18%\n",
      "e est de 15.43%\n",
      "n est de 7.00%\n",
      "t est de 7.48%\n",
      "d est de 4.14%\n",
      "j est de 0.32%\n",
      "i est de 7.56%\n",
      "l est de 6.28%\n",
      "p est de 2.23%\n",
      "r est de 5.89%\n",
      "s est de 8.67%\n",
      "é est de 1.91%\n",
      "x est de 0.32%\n",
      "v est de 1.67%\n",
      "h est de 0.88%\n",
      "b est de 0.72%\n",
      "q est de 0.95%\n",
      "g est de 1.11%\n",
      "k est de 0.16%\n",
      "à est de 0.48%\n",
      "f est de 0.72%\n",
      "û est de 0.08%\n",
      "y est de 0.16%\n",
      "ê est de 0.40%\n",
      "è est de 0.16%\n"
     ]
    }
   ],
   "source": [
    "# probabilite\n",
    "def probabilite():\n",
    "    print(f'Dans le fichier anglais, la probabilite d\\'avoir le caractere:')\n",
    "    for caractere, occ_ca in dict_english.items():\n",
    "        proba = (occ_ca / total_english)* 100\n",
    "        print(f'{caractere} est de {proba:.2f}%')\n",
    "    print('-'*10)\n",
    "    #for caractere in dict_francais:\n",
    "    print(f'Dans le fichier francais, la probabilite d\\'avoir le caractere:')\n",
    "    for caractere, occ_ca in dict_francais.items():\n",
    "        proba = (occ_ca / total_francais)* 100\n",
    "        print(f'{caractere} est de {proba:.2f}%')\n",
    "\n",
    "probabilite()"
   ]
  },
  {
   "cell_type": "markdown",
   "id": "92fae584-a971-4873-87cb-4baa9b9b8d94",
   "metadata": {},
   "source": [
    "*finalement, on a la probabilite de l'occurence de chaque lettre dans le fichier anglais ainsi que le fichier francais.*"
   ]
  },
  {
   "cell_type": "markdown",
   "id": "649a5858-9585-49be-9391-591760bfb29a",
   "metadata": {},
   "source": [
    "*fin du tp 1 - theorie et traitement de l'information*"
   ]
  }
 ],
 "metadata": {
  "kernelspec": {
   "display_name": "Python [conda env:base] *",
   "language": "python",
   "name": "conda-base-py"
  },
  "language_info": {
   "codemirror_mode": {
    "name": "ipython",
    "version": 3
   },
   "file_extension": ".py",
   "mimetype": "text/x-python",
   "name": "python",
   "nbconvert_exporter": "python",
   "pygments_lexer": "ipython3",
   "version": "3.12.7"
  }
 },
 "nbformat": 4,
 "nbformat_minor": 5
}
