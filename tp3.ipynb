{
 "cells": [
  {
   "cell_type": "markdown",
   "id": "389ec228-d282-4fa1-9292-83b57471324a",
   "metadata": {},
   "source": [
    "# TP 3 Theorie et Traitement de l'Information\n",
    "## MGSI 4 - JAAFAR Leila"
   ]
  },
  {
   "cell_type": "code",
   "execution_count": 160,
   "id": "0dfc1def-df1c-44af-a38f-d2c4d8cfd9ae",
   "metadata": {},
   "outputs": [],
   "source": [
    "import numpy as np\n",
    "import pandas as pd\n",
    "import seaborn as sns"
   ]
  },
  {
   "cell_type": "markdown",
   "id": "5eb0f8d5-abf1-454d-bbd2-aff581a520f4",
   "metadata": {},
   "source": [
    "## exercice 1"
   ]
  },
  {
   "cell_type": "code",
   "execution_count": 5,
   "id": "076d0f96-f2a5-444b-95ae-60106a9e07c0",
   "metadata": {},
   "outputs": [
    {
     "data": {
      "text/html": [
       "<div>\n",
       "<style scoped>\n",
       "    .dataframe tbody tr th:only-of-type {\n",
       "        vertical-align: middle;\n",
       "    }\n",
       "\n",
       "    .dataframe tbody tr th {\n",
       "        vertical-align: top;\n",
       "    }\n",
       "\n",
       "    .dataframe thead th {\n",
       "        text-align: right;\n",
       "    }\n",
       "</style>\n",
       "<table border=\"1\" class=\"dataframe\">\n",
       "  <thead>\n",
       "    <tr style=\"text-align: right;\">\n",
       "      <th></th>\n",
       "      <th>pclass</th>\n",
       "      <th>survived</th>\n",
       "      <th>name</th>\n",
       "      <th>sex</th>\n",
       "      <th>age</th>\n",
       "      <th>sibsp</th>\n",
       "      <th>parch</th>\n",
       "      <th>ticket</th>\n",
       "      <th>fare</th>\n",
       "      <th>cabin</th>\n",
       "      <th>embarked</th>\n",
       "      <th>boat</th>\n",
       "      <th>body</th>\n",
       "      <th>home.dest</th>\n",
       "    </tr>\n",
       "  </thead>\n",
       "  <tbody>\n",
       "    <tr>\n",
       "      <th>0</th>\n",
       "      <td>1</td>\n",
       "      <td>1</td>\n",
       "      <td>Allen, Miss. Elisabeth Walton</td>\n",
       "      <td>female</td>\n",
       "      <td>29.0000</td>\n",
       "      <td>0</td>\n",
       "      <td>0</td>\n",
       "      <td>24160</td>\n",
       "      <td>211.3375</td>\n",
       "      <td>B5</td>\n",
       "      <td>S</td>\n",
       "      <td>2</td>\n",
       "      <td>NaN</td>\n",
       "      <td>St Louis, MO</td>\n",
       "    </tr>\n",
       "    <tr>\n",
       "      <th>1</th>\n",
       "      <td>1</td>\n",
       "      <td>1</td>\n",
       "      <td>Allison, Master. Hudson Trevor</td>\n",
       "      <td>male</td>\n",
       "      <td>0.9167</td>\n",
       "      <td>1</td>\n",
       "      <td>2</td>\n",
       "      <td>113781</td>\n",
       "      <td>151.5500</td>\n",
       "      <td>C22 C26</td>\n",
       "      <td>S</td>\n",
       "      <td>11</td>\n",
       "      <td>NaN</td>\n",
       "      <td>Montreal, PQ / Chesterville, ON</td>\n",
       "    </tr>\n",
       "    <tr>\n",
       "      <th>2</th>\n",
       "      <td>1</td>\n",
       "      <td>0</td>\n",
       "      <td>Allison, Miss. Helen Loraine</td>\n",
       "      <td>female</td>\n",
       "      <td>2.0000</td>\n",
       "      <td>1</td>\n",
       "      <td>2</td>\n",
       "      <td>113781</td>\n",
       "      <td>151.5500</td>\n",
       "      <td>C22 C26</td>\n",
       "      <td>S</td>\n",
       "      <td>NaN</td>\n",
       "      <td>NaN</td>\n",
       "      <td>Montreal, PQ / Chesterville, ON</td>\n",
       "    </tr>\n",
       "    <tr>\n",
       "      <th>3</th>\n",
       "      <td>1</td>\n",
       "      <td>0</td>\n",
       "      <td>Allison, Mr. Hudson Joshua Creighton</td>\n",
       "      <td>male</td>\n",
       "      <td>30.0000</td>\n",
       "      <td>1</td>\n",
       "      <td>2</td>\n",
       "      <td>113781</td>\n",
       "      <td>151.5500</td>\n",
       "      <td>C22 C26</td>\n",
       "      <td>S</td>\n",
       "      <td>NaN</td>\n",
       "      <td>135.0</td>\n",
       "      <td>Montreal, PQ / Chesterville, ON</td>\n",
       "    </tr>\n",
       "    <tr>\n",
       "      <th>4</th>\n",
       "      <td>1</td>\n",
       "      <td>0</td>\n",
       "      <td>Allison, Mrs. Hudson J C (Bessie Waldo Daniels)</td>\n",
       "      <td>female</td>\n",
       "      <td>25.0000</td>\n",
       "      <td>1</td>\n",
       "      <td>2</td>\n",
       "      <td>113781</td>\n",
       "      <td>151.5500</td>\n",
       "      <td>C22 C26</td>\n",
       "      <td>S</td>\n",
       "      <td>NaN</td>\n",
       "      <td>NaN</td>\n",
       "      <td>Montreal, PQ / Chesterville, ON</td>\n",
       "    </tr>\n",
       "  </tbody>\n",
       "</table>\n",
       "</div>"
      ],
      "text/plain": [
       "   pclass  survived                                             name     sex  \\\n",
       "0       1         1                    Allen, Miss. Elisabeth Walton  female   \n",
       "1       1         1                   Allison, Master. Hudson Trevor    male   \n",
       "2       1         0                     Allison, Miss. Helen Loraine  female   \n",
       "3       1         0             Allison, Mr. Hudson Joshua Creighton    male   \n",
       "4       1         0  Allison, Mrs. Hudson J C (Bessie Waldo Daniels)  female   \n",
       "\n",
       "       age  sibsp  parch  ticket      fare    cabin embarked boat   body  \\\n",
       "0  29.0000      0      0   24160  211.3375       B5        S    2    NaN   \n",
       "1   0.9167      1      2  113781  151.5500  C22 C26        S   11    NaN   \n",
       "2   2.0000      1      2  113781  151.5500  C22 C26        S  NaN    NaN   \n",
       "3  30.0000      1      2  113781  151.5500  C22 C26        S  NaN  135.0   \n",
       "4  25.0000      1      2  113781  151.5500  C22 C26        S  NaN    NaN   \n",
       "\n",
       "                         home.dest  \n",
       "0                     St Louis, MO  \n",
       "1  Montreal, PQ / Chesterville, ON  \n",
       "2  Montreal, PQ / Chesterville, ON  \n",
       "3  Montreal, PQ / Chesterville, ON  \n",
       "4  Montreal, PQ / Chesterville, ON  "
      ]
     },
     "execution_count": 5,
     "metadata": {},
     "output_type": "execute_result"
    }
   ],
   "source": [
    "#1 chargement et affichage\n",
    "titanic = pd.read_excel(r\"C:\\Users\\leila\\Downloads\\titanic1.xlsx\")\n",
    "titanic.head()"
   ]
  },
  {
   "cell_type": "markdown",
   "id": "f932d3ad-888e-4485-8af9-837d8c8abdd1",
   "metadata": {},
   "source": [
    "*on a charge le dataset titanic1.xlsx et en utilisant la methode .head() on voit les 5 premieres lignes.*"
   ]
  },
  {
   "cell_type": "code",
   "execution_count": 7,
   "id": "e28002e6-8e32-41c2-871e-4e818e8c68e6",
   "metadata": {},
   "outputs": [
    {
     "name": "stdout",
     "output_type": "stream",
     "text": [
      "le nombre des lignes: 1309 et des colonnes: 14\n",
      "le nom des colonnes est: Index(['pclass', 'survived', 'name', 'sex', 'age', 'sibsp', 'parch', 'ticket',\n",
      "       'fare', 'cabin', 'embarked', 'boat', 'body', 'home.dest'],\n",
      "      dtype='object')\n"
     ]
    }
   ],
   "source": [
    "#2 nombre de lignes et colonnes\n",
    "num_rows = titanic.shape[0]\n",
    "num_columns = titanic.shape[1]\n",
    "print(f'le nombre des lignes: {num_rows} et des colonnes: {num_columns}')\n",
    "\n",
    "# le nom des colonnes\n",
    "titanic_columns = titanic.columns\n",
    "print(f'le nom des colonnes est: {titanic_columns}')"
   ]
  },
  {
   "cell_type": "markdown",
   "id": "a38a70be-ee36-447d-9eb1-ef77664cc7e4",
   "metadata": {},
   "source": [
    "*les methodes shape[0] et shape[1] nous renseignent sur le nombre des lignes et colonnes du dataset. Ensuite, titanic.columns nous envoie le nom de tous les colonnes.*"
   ]
  },
  {
   "cell_type": "code",
   "execution_count": 10,
   "id": "47f57cc8-e5c0-46af-83a2-c6e4c07c3028",
   "metadata": {},
   "outputs": [
    {
     "data": {
      "text/html": [
       "<div>\n",
       "<style scoped>\n",
       "    .dataframe tbody tr th:only-of-type {\n",
       "        vertical-align: middle;\n",
       "    }\n",
       "\n",
       "    .dataframe tbody tr th {\n",
       "        vertical-align: top;\n",
       "    }\n",
       "\n",
       "    .dataframe thead th {\n",
       "        text-align: right;\n",
       "    }\n",
       "</style>\n",
       "<table border=\"1\" class=\"dataframe\">\n",
       "  <thead>\n",
       "    <tr style=\"text-align: right;\">\n",
       "      <th></th>\n",
       "      <th>pclass</th>\n",
       "      <th>survived</th>\n",
       "      <th>name</th>\n",
       "      <th>sex</th>\n",
       "      <th>age</th>\n",
       "      <th>sibsp</th>\n",
       "      <th>parch</th>\n",
       "      <th>ticket</th>\n",
       "      <th>fare</th>\n",
       "      <th>cabin</th>\n",
       "      <th>embarked</th>\n",
       "      <th>boat</th>\n",
       "      <th>body</th>\n",
       "      <th>home.dest</th>\n",
       "    </tr>\n",
       "  </thead>\n",
       "  <tbody>\n",
       "    <tr>\n",
       "      <th>0</th>\n",
       "      <td>1</td>\n",
       "      <td>1</td>\n",
       "      <td>Allen, Miss. Elisabeth Walton</td>\n",
       "      <td>female</td>\n",
       "      <td>29.0000</td>\n",
       "      <td>0</td>\n",
       "      <td>0</td>\n",
       "      <td>24160</td>\n",
       "      <td>211.3375</td>\n",
       "      <td>B5</td>\n",
       "      <td>S</td>\n",
       "      <td>2</td>\n",
       "      <td>NaN</td>\n",
       "      <td>St Louis, MO</td>\n",
       "    </tr>\n",
       "    <tr>\n",
       "      <th>1</th>\n",
       "      <td>1</td>\n",
       "      <td>1</td>\n",
       "      <td>Allison, Master. Hudson Trevor</td>\n",
       "      <td>male</td>\n",
       "      <td>0.9167</td>\n",
       "      <td>1</td>\n",
       "      <td>2</td>\n",
       "      <td>113781</td>\n",
       "      <td>151.5500</td>\n",
       "      <td>C22 C26</td>\n",
       "      <td>S</td>\n",
       "      <td>11</td>\n",
       "      <td>NaN</td>\n",
       "      <td>Montreal, PQ / Chesterville, ON</td>\n",
       "    </tr>\n",
       "    <tr>\n",
       "      <th>2</th>\n",
       "      <td>1</td>\n",
       "      <td>0</td>\n",
       "      <td>Allison, Miss. Helen Loraine</td>\n",
       "      <td>female</td>\n",
       "      <td>2.0000</td>\n",
       "      <td>1</td>\n",
       "      <td>2</td>\n",
       "      <td>113781</td>\n",
       "      <td>151.5500</td>\n",
       "      <td>C22 C26</td>\n",
       "      <td>S</td>\n",
       "      <td>NaN</td>\n",
       "      <td>NaN</td>\n",
       "      <td>Montreal, PQ / Chesterville, ON</td>\n",
       "    </tr>\n",
       "    <tr>\n",
       "      <th>3</th>\n",
       "      <td>1</td>\n",
       "      <td>0</td>\n",
       "      <td>Allison, Mr. Hudson Joshua Creighton</td>\n",
       "      <td>male</td>\n",
       "      <td>30.0000</td>\n",
       "      <td>1</td>\n",
       "      <td>2</td>\n",
       "      <td>113781</td>\n",
       "      <td>151.5500</td>\n",
       "      <td>C22 C26</td>\n",
       "      <td>S</td>\n",
       "      <td>NaN</td>\n",
       "      <td>135.0</td>\n",
       "      <td>Montreal, PQ / Chesterville, ON</td>\n",
       "    </tr>\n",
       "  </tbody>\n",
       "</table>\n",
       "</div>"
      ],
      "text/plain": [
       "   pclass  survived                                  name     sex      age  \\\n",
       "0       1         1         Allen, Miss. Elisabeth Walton  female  29.0000   \n",
       "1       1         1        Allison, Master. Hudson Trevor    male   0.9167   \n",
       "2       1         0          Allison, Miss. Helen Loraine  female   2.0000   \n",
       "3       1         0  Allison, Mr. Hudson Joshua Creighton    male  30.0000   \n",
       "\n",
       "   sibsp  parch  ticket      fare    cabin embarked boat   body  \\\n",
       "0      0      0   24160  211.3375       B5        S    2    NaN   \n",
       "1      1      2  113781  151.5500  C22 C26        S   11    NaN   \n",
       "2      1      2  113781  151.5500  C22 C26        S  NaN    NaN   \n",
       "3      1      2  113781  151.5500  C22 C26        S  NaN  135.0   \n",
       "\n",
       "                         home.dest  \n",
       "0                     St Louis, MO  \n",
       "1  Montreal, PQ / Chesterville, ON  \n",
       "2  Montreal, PQ / Chesterville, ON  \n",
       "3  Montreal, PQ / Chesterville, ON  "
      ]
     },
     "execution_count": 10,
     "metadata": {},
     "output_type": "execute_result"
    }
   ],
   "source": [
    "#3 les 4 premieres lignes\n",
    "titanic.head(4) # ou bien titanic.iloc[:4]"
   ]
  },
  {
   "cell_type": "code",
   "execution_count": 11,
   "id": "f99a27f9-696f-4028-86c7-f6a6d6f83b22",
   "metadata": {},
   "outputs": [
    {
     "data": {
      "text/html": [
       "<div>\n",
       "<style scoped>\n",
       "    .dataframe tbody tr th:only-of-type {\n",
       "        vertical-align: middle;\n",
       "    }\n",
       "\n",
       "    .dataframe tbody tr th {\n",
       "        vertical-align: top;\n",
       "    }\n",
       "\n",
       "    .dataframe thead th {\n",
       "        text-align: right;\n",
       "    }\n",
       "</style>\n",
       "<table border=\"1\" class=\"dataframe\">\n",
       "  <thead>\n",
       "    <tr style=\"text-align: right;\">\n",
       "      <th></th>\n",
       "      <th>pclass</th>\n",
       "      <th>survived</th>\n",
       "      <th>name</th>\n",
       "      <th>sex</th>\n",
       "      <th>age</th>\n",
       "      <th>sibsp</th>\n",
       "      <th>parch</th>\n",
       "      <th>ticket</th>\n",
       "      <th>fare</th>\n",
       "      <th>cabin</th>\n",
       "      <th>embarked</th>\n",
       "      <th>boat</th>\n",
       "      <th>body</th>\n",
       "      <th>home.dest</th>\n",
       "    </tr>\n",
       "  </thead>\n",
       "  <tbody>\n",
       "    <tr>\n",
       "      <th>1304</th>\n",
       "      <td>3</td>\n",
       "      <td>0</td>\n",
       "      <td>Zabour, Miss. Hileni</td>\n",
       "      <td>female</td>\n",
       "      <td>14.5</td>\n",
       "      <td>1</td>\n",
       "      <td>0</td>\n",
       "      <td>2665</td>\n",
       "      <td>14.4542</td>\n",
       "      <td>NaN</td>\n",
       "      <td>C</td>\n",
       "      <td>NaN</td>\n",
       "      <td>328.0</td>\n",
       "      <td>NaN</td>\n",
       "    </tr>\n",
       "    <tr>\n",
       "      <th>1305</th>\n",
       "      <td>3</td>\n",
       "      <td>0</td>\n",
       "      <td>Zabour, Miss. Thamine</td>\n",
       "      <td>female</td>\n",
       "      <td>NaN</td>\n",
       "      <td>1</td>\n",
       "      <td>0</td>\n",
       "      <td>2665</td>\n",
       "      <td>14.4542</td>\n",
       "      <td>NaN</td>\n",
       "      <td>C</td>\n",
       "      <td>NaN</td>\n",
       "      <td>NaN</td>\n",
       "      <td>NaN</td>\n",
       "    </tr>\n",
       "    <tr>\n",
       "      <th>1306</th>\n",
       "      <td>3</td>\n",
       "      <td>0</td>\n",
       "      <td>Zakarian, Mr. Mapriededer</td>\n",
       "      <td>male</td>\n",
       "      <td>26.5</td>\n",
       "      <td>0</td>\n",
       "      <td>0</td>\n",
       "      <td>2656</td>\n",
       "      <td>7.2250</td>\n",
       "      <td>NaN</td>\n",
       "      <td>C</td>\n",
       "      <td>NaN</td>\n",
       "      <td>304.0</td>\n",
       "      <td>NaN</td>\n",
       "    </tr>\n",
       "    <tr>\n",
       "      <th>1307</th>\n",
       "      <td>3</td>\n",
       "      <td>0</td>\n",
       "      <td>Zakarian, Mr. Ortin</td>\n",
       "      <td>male</td>\n",
       "      <td>27.0</td>\n",
       "      <td>0</td>\n",
       "      <td>0</td>\n",
       "      <td>2670</td>\n",
       "      <td>7.2250</td>\n",
       "      <td>NaN</td>\n",
       "      <td>C</td>\n",
       "      <td>NaN</td>\n",
       "      <td>NaN</td>\n",
       "      <td>NaN</td>\n",
       "    </tr>\n",
       "    <tr>\n",
       "      <th>1308</th>\n",
       "      <td>3</td>\n",
       "      <td>0</td>\n",
       "      <td>Zimmerman, Mr. Leo</td>\n",
       "      <td>male</td>\n",
       "      <td>29.0</td>\n",
       "      <td>0</td>\n",
       "      <td>0</td>\n",
       "      <td>315082</td>\n",
       "      <td>7.8750</td>\n",
       "      <td>NaN</td>\n",
       "      <td>S</td>\n",
       "      <td>NaN</td>\n",
       "      <td>NaN</td>\n",
       "      <td>NaN</td>\n",
       "    </tr>\n",
       "  </tbody>\n",
       "</table>\n",
       "</div>"
      ],
      "text/plain": [
       "      pclass  survived                       name     sex   age  sibsp  parch  \\\n",
       "1304       3         0       Zabour, Miss. Hileni  female  14.5      1      0   \n",
       "1305       3         0      Zabour, Miss. Thamine  female   NaN      1      0   \n",
       "1306       3         0  Zakarian, Mr. Mapriededer    male  26.5      0      0   \n",
       "1307       3         0        Zakarian, Mr. Ortin    male  27.0      0      0   \n",
       "1308       3         0         Zimmerman, Mr. Leo    male  29.0      0      0   \n",
       "\n",
       "      ticket     fare cabin embarked boat   body home.dest  \n",
       "1304    2665  14.4542   NaN        C  NaN  328.0       NaN  \n",
       "1305    2665  14.4542   NaN        C  NaN    NaN       NaN  \n",
       "1306    2656   7.2250   NaN        C  NaN  304.0       NaN  \n",
       "1307    2670   7.2250   NaN        C  NaN    NaN       NaN  \n",
       "1308  315082   7.8750   NaN        S  NaN    NaN       NaN  "
      ]
     },
     "execution_count": 11,
     "metadata": {},
     "output_type": "execute_result"
    }
   ],
   "source": [
    "# les 5 dernieres lignes\n",
    "titanic.tail() # ou bien titanic.iloc[-5:]"
   ]
  },
  {
   "cell_type": "markdown",
   "id": "6705b4af-9fc3-4e32-a039-260d9dcb6d4c",
   "metadata": {},
   "source": [
    "*afin d'aboutir au but d'avoir les n premieres lignes ou les N dernieres lignes, on peut utiliser soit .head() et tail() respectivement, ou bien le iloc.*"
   ]
  },
  {
   "cell_type": "code",
   "execution_count": 17,
   "id": "aa2f6107-b8a4-4b89-867e-848b56f5748f",
   "metadata": {},
   "outputs": [
    {
     "data": {
      "text/plain": [
       "pclass          0\n",
       "survived        0\n",
       "name            0\n",
       "sex             0\n",
       "age           263\n",
       "sibsp           0\n",
       "parch           0\n",
       "ticket          0\n",
       "fare            1\n",
       "cabin        1014\n",
       "embarked        2\n",
       "boat          823\n",
       "body         1188\n",
       "home.dest     564\n",
       "dtype: int64"
      ]
     },
     "execution_count": 17,
     "metadata": {},
     "output_type": "execute_result"
    }
   ],
   "source": [
    "#4 identifier les valeurs manquantes\n",
    "titanic.isna().sum()"
   ]
  },
  {
   "cell_type": "code",
   "execution_count": 19,
   "id": "f6d6add5-75a1-45e9-aa45-2072b39ac4b9",
   "metadata": {},
   "outputs": [
    {
     "data": {
      "text/plain": [
       "29.8811345124283"
      ]
     },
     "execution_count": 19,
     "metadata": {},
     "output_type": "execute_result"
    }
   ],
   "source": [
    "#5 traitement des valeurs manquantes\n",
    "\n",
    "# calcul de moyenne de chaque colonne numerique\n",
    "def titanic_moyenne(column, numeric_only = True):\n",
    "        return titanic[column].mean()\n",
    "titanic_moyenne('age')"
   ]
  },
  {
   "cell_type": "markdown",
   "id": "f1761946-c9d4-4b56-84d5-2bdcae4021b1",
   "metadata": {},
   "source": [
    "*on calcul la moyenne pour chaque colonne dans dataset titanic.*"
   ]
  },
  {
   "cell_type": "code",
   "execution_count": 22,
   "id": "4db424f1-54b2-4bb6-8c56-9b2858de232d",
   "metadata": {},
   "outputs": [],
   "source": [
    "# remplissage des valeurs manquantes\n",
    "for column in titanic.columns:\n",
    "    if titanic[column].dtype != object:\n",
    "        titanic[column] = titanic[column].fillna(titanic_moyenne(column))  \n",
    "    else:\n",
    "        titanic[column] = titanic[column].fillna('non renseigné') "
   ]
  },
  {
   "cell_type": "markdown",
   "id": "2cf29d3c-cbff-4966-922a-bc2a4858e95b",
   "metadata": {},
   "source": [
    "*on remplace les valeurs numeriques par la moyenne, et les autres par non renseigne.*"
   ]
  },
  {
   "cell_type": "code",
   "execution_count": 25,
   "id": "e22ab68f-5862-4c32-a0b6-b7d431c31c7b",
   "metadata": {},
   "outputs": [
    {
     "data": {
      "text/plain": [
       "pclass       0\n",
       "survived     0\n",
       "name         0\n",
       "sex          0\n",
       "age          0\n",
       "sibsp        0\n",
       "parch        0\n",
       "ticket       0\n",
       "fare         0\n",
       "cabin        0\n",
       "embarked     0\n",
       "boat         0\n",
       "body         0\n",
       "home.dest    0\n",
       "dtype: int64"
      ]
     },
     "execution_count": 25,
     "metadata": {},
     "output_type": "execute_result"
    }
   ],
   "source": [
    "titanic.isna().sum()"
   ]
  },
  {
   "cell_type": "markdown",
   "id": "e5f5829e-a105-4d4c-9e4c-5cde49435113",
   "metadata": {},
   "source": [
    "*maintenant, quand on execute la methode isna() une autre fois, on remarque qu'on a aucune valeur null.*"
   ]
  },
  {
   "cell_type": "code",
   "execution_count": 28,
   "id": "734dda6c-8ffc-498f-81e7-09babe5ad993",
   "metadata": {},
   "outputs": [
    {
     "data": {
      "text/plain": [
       "max    80.0000\n",
       "min     0.1667\n",
       "ptp    79.8333\n",
       "Name: age, dtype: float64"
      ]
     },
     "execution_count": 28,
     "metadata": {},
     "output_type": "execute_result"
    }
   ],
   "source": [
    "#6 parametres de dispersion et tendance centrale\n",
    "\n",
    "#a age max, min et amplitude\n",
    "titanic['age'].agg(['max', 'min', 'ptp'])"
   ]
  },
  {
   "cell_type": "code",
   "execution_count": 30,
   "id": "a97bd5c9-3a7d-45b2-83cb-c4438ba96827",
   "metadata": {},
   "outputs": [
    {
     "name": "stdout",
     "output_type": "stream",
     "text": [
      "la moyenne d'age des passagers du titanic: 29.881\n"
     ]
    }
   ],
   "source": [
    "#b moyenne d'age des passagers \n",
    "moyenne_age = titanic_moyenne('age')\n",
    "print(f'la moyenne d\\'age des passagers du titanic: {moyenne_age:.3f}')"
   ]
  },
  {
   "cell_type": "code",
   "execution_count": 32,
   "id": "398fc96a-e4a8-4be6-a704-1c88bb74af9c",
   "metadata": {},
   "outputs": [
    {
     "name": "stdout",
     "output_type": "stream",
     "text": [
      "le mode d'age des passagers du titanic 0    29.881135\n",
      "Name: age, dtype: float64 et la medianne: 29.8811345124283\n"
     ]
    }
   ],
   "source": [
    "#c mode et medianne de l'age\n",
    "mode_age = titanic['age'].mode()\n",
    "medianne_age = titanic['age'].median()\n",
    "print(f'le mode d\\'age des passagers du titanic {mode_age} et la medianne: {medianne_age}')"
   ]
  },
  {
   "cell_type": "markdown",
   "id": "0169431e-2f17-4519-9051-9e3d96e40c8b",
   "metadata": {},
   "source": [
    "*Attention! On remarque que le mode ~ medianne ~ medianne. Cela coincide avec le calcul de ces valeurs dans excel =AVERAGE(E2,E1310), etc. <br>\n",
    "Pourquoi? le mode est la valeur la plus frequente et puisque on a remplace 263 NA valeurs par la moyenne donc ils sont egaux.*"
   ]
  },
  {
   "cell_type": "code",
   "execution_count": 35,
   "id": "7e139192-f87e-43d6-9bf3-47991548b8e0",
   "metadata": {},
   "outputs": [
    {
     "data": {
      "text/html": [
       "<div>\n",
       "<style scoped>\n",
       "    .dataframe tbody tr th:only-of-type {\n",
       "        vertical-align: middle;\n",
       "    }\n",
       "\n",
       "    .dataframe tbody tr th {\n",
       "        vertical-align: top;\n",
       "    }\n",
       "\n",
       "    .dataframe thead th {\n",
       "        text-align: right;\n",
       "    }\n",
       "</style>\n",
       "<table border=\"1\" class=\"dataframe\">\n",
       "  <thead>\n",
       "    <tr style=\"text-align: right;\">\n",
       "      <th></th>\n",
       "      <th>pclass</th>\n",
       "      <th>survived</th>\n",
       "      <th>age</th>\n",
       "      <th>sibsp</th>\n",
       "      <th>parch</th>\n",
       "      <th>fare</th>\n",
       "      <th>body</th>\n",
       "    </tr>\n",
       "  </thead>\n",
       "  <tbody>\n",
       "    <tr>\n",
       "      <th>0</th>\n",
       "      <td>1</td>\n",
       "      <td>1</td>\n",
       "      <td>29.0000</td>\n",
       "      <td>0</td>\n",
       "      <td>0</td>\n",
       "      <td>211.3375</td>\n",
       "      <td>160.809917</td>\n",
       "    </tr>\n",
       "    <tr>\n",
       "      <th>1</th>\n",
       "      <td>1</td>\n",
       "      <td>1</td>\n",
       "      <td>0.9167</td>\n",
       "      <td>1</td>\n",
       "      <td>2</td>\n",
       "      <td>151.5500</td>\n",
       "      <td>160.809917</td>\n",
       "    </tr>\n",
       "    <tr>\n",
       "      <th>2</th>\n",
       "      <td>1</td>\n",
       "      <td>0</td>\n",
       "      <td>2.0000</td>\n",
       "      <td>1</td>\n",
       "      <td>2</td>\n",
       "      <td>151.5500</td>\n",
       "      <td>160.809917</td>\n",
       "    </tr>\n",
       "    <tr>\n",
       "      <th>3</th>\n",
       "      <td>1</td>\n",
       "      <td>0</td>\n",
       "      <td>30.0000</td>\n",
       "      <td>1</td>\n",
       "      <td>2</td>\n",
       "      <td>151.5500</td>\n",
       "      <td>135.000000</td>\n",
       "    </tr>\n",
       "    <tr>\n",
       "      <th>4</th>\n",
       "      <td>1</td>\n",
       "      <td>0</td>\n",
       "      <td>25.0000</td>\n",
       "      <td>1</td>\n",
       "      <td>2</td>\n",
       "      <td>151.5500</td>\n",
       "      <td>160.809917</td>\n",
       "    </tr>\n",
       "  </tbody>\n",
       "</table>\n",
       "</div>"
      ],
      "text/plain": [
       "   pclass  survived      age  sibsp  parch      fare        body\n",
       "0       1         1  29.0000      0      0  211.3375  160.809917\n",
       "1       1         1   0.9167      1      2  151.5500  160.809917\n",
       "2       1         0   2.0000      1      2  151.5500  160.809917\n",
       "3       1         0  30.0000      1      2  151.5500  135.000000\n",
       "4       1         0  25.0000      1      2  151.5500  160.809917"
      ]
     },
     "execution_count": 35,
     "metadata": {},
     "output_type": "execute_result"
    }
   ],
   "source": [
    "#creation d'un subset de titanic contenant valeurs numeriques seulement\n",
    "titanic_numeric = pd.DataFrame()\n",
    "for column in titanic.columns:\n",
    "    if titanic[column].dtype != object:\n",
    "        titanic_numeric[column] = titanic[column]\n",
    "titanic_numeric.head()"
   ]
  },
  {
   "cell_type": "code",
   "execution_count": 37,
   "id": "1d026627-1796-426b-acbb-d5a41727f439",
   "metadata": {},
   "outputs": [
    {
     "name": "stdout",
     "output_type": "stream",
     "text": [
      "la variance = pclass         0.701969\n",
      "survived       0.236250\n",
      "age          165.976818\n",
      "sibsp          1.085052\n",
      "parch          0.749195\n",
      "fare        2676.911604\n",
      "body         875.659502\n",
      "dtype: float64 et l'ecart type = pclass       0.837836\n",
      "survived     0.486055\n",
      "age         12.883199\n",
      "sibsp        1.041658\n",
      "parch        0.865560\n",
      "fare        51.738879\n",
      "body        29.591544\n",
      "dtype: float64\n"
     ]
    }
   ],
   "source": [
    "#d variance et ecart type\n",
    "\n",
    "titanic_variance = titanic_numeric.var()\n",
    "titanic_ecarttype = titanic_numeric.std()\n",
    "print(f'la variance = {titanic_variance} et l\\'ecart type = {titanic_ecarttype}')"
   ]
  },
  {
   "cell_type": "markdown",
   "id": "4e5b030c-3635-49eb-a866-3294f4912f9e",
   "metadata": {},
   "source": [
    "*on remarque une correlation entre l'ecart type et la variance; puisque l'ecart type = sqrt(la variance). La variance represente a quel point les valeurs different elles de la moyenne et ainsi des autres valeurs. <br> Donc, on remarque une grande variance pour l'age et le prix du ticket.*"
   ]
  },
  {
   "cell_type": "code",
   "execution_count": 40,
   "id": "3b3d17aa-fbcf-4ee9-bb06-265e44a33d74",
   "metadata": {},
   "outputs": [
    {
     "name": "stdout",
     "output_type": "stream",
     "text": [
      "pour colonne: pclass\n",
      "q1: 2.0\n",
      " q2: 3.0\n",
      " q3: 3.0\n",
      "pour colonne: survived\n",
      "q1: 0.0\n",
      " q2: 0.0\n",
      " q3: 1.0\n",
      "pour colonne: age\n",
      "q1: 22.0\n",
      " q2: 29.8811345124283\n",
      " q3: 35.0\n",
      "pour colonne: sibsp\n",
      "q1: 0.0\n",
      " q2: 0.0\n",
      " q3: 1.0\n",
      "pour colonne: parch\n",
      "q1: 0.0\n",
      " q2: 0.0\n",
      " q3: 0.0\n",
      "pour colonne: fare\n",
      "q1: 7.8958\n",
      " q2: 14.4542\n",
      " q3: 31.275\n",
      "pour colonne: body\n",
      "q1: 160.8099173553719\n",
      " q2: 160.8099173553719\n",
      " q3: 160.8099173553719\n"
     ]
    }
   ],
   "source": [
    "#e les quartiles\n",
    "def titanic_quartiles():\n",
    "    for column in titanic_numeric.columns:\n",
    "        print(f'pour colonne: {column}')\n",
    "        titanic_q1 = np.percentile(titanic_numeric[column], 25)\n",
    "        titanic_q2 = np.percentile(titanic_numeric[column], 50)\n",
    "        titanic_q3 = np.percentile(titanic_numeric[column], 75)\n",
    "        print(f'q1: {titanic_q1}\\n q2: {titanic_q2}\\n q3: {titanic_q3}')\n",
    "titanic_quartiles()"
   ]
  },
  {
   "cell_type": "code",
   "execution_count": 42,
   "id": "9b1a1d97-14a0-4acf-8874-affca8ee5010",
   "metadata": {},
   "outputs": [
    {
     "name": "stdout",
     "output_type": "stream",
     "text": [
      "pour colonne: pclass\n",
      "le 10eme percentile : 1.0\n",
      "le 20eme percentile : 1.0\n",
      "le 30eme percentile : 2.0\n",
      "le 40eme percentile : 2.0\n",
      "le 50eme percentile : 3.0\n",
      "le 60eme percentile : 3.0\n",
      "le 70eme percentile : 3.0\n",
      "le 80eme percentile : 3.0\n",
      "le 90eme percentile : 3.0\n",
      "le 100eme percentile : 3.0\n",
      "pour colonne: survived\n",
      "le 10eme percentile : 0.0\n",
      "le 20eme percentile : 0.0\n",
      "le 30eme percentile : 0.0\n",
      "le 40eme percentile : 0.0\n",
      "le 50eme percentile : 0.0\n",
      "le 60eme percentile : 0.0\n",
      "le 70eme percentile : 1.0\n",
      "le 80eme percentile : 1.0\n",
      "le 90eme percentile : 1.0\n",
      "le 100eme percentile : 1.0\n",
      "pour colonne: age\n",
      "le 10eme percentile : 16.0\n",
      "le 20eme percentile : 21.0\n",
      "le 30eme percentile : 24.0\n",
      "le 40eme percentile : 28.0\n",
      "le 50eme percentile : 29.8811345124283\n",
      "le 60eme percentile : 29.8811345124283\n",
      "le 70eme percentile : 32.0\n",
      "le 80eme percentile : 39.0\n",
      "le 90eme percentile : 48.0\n",
      "le 100eme percentile : 80.0\n",
      "pour colonne: sibsp\n",
      "le 10eme percentile : 0.0\n",
      "le 20eme percentile : 0.0\n",
      "le 30eme percentile : 0.0\n",
      "le 40eme percentile : 0.0\n",
      "le 50eme percentile : 0.0\n",
      "le 60eme percentile : 0.0\n",
      "le 70eme percentile : 1.0\n",
      "le 80eme percentile : 1.0\n",
      "le 90eme percentile : 1.0\n",
      "le 100eme percentile : 8.0\n",
      "pour colonne: parch\n",
      "le 10eme percentile : 0.0\n",
      "le 20eme percentile : 0.0\n",
      "le 30eme percentile : 0.0\n",
      "le 40eme percentile : 0.0\n",
      "le 50eme percentile : 0.0\n",
      "le 60eme percentile : 0.0\n",
      "le 70eme percentile : 0.0\n",
      "le 80eme percentile : 1.0\n",
      "le 90eme percentile : 2.0\n",
      "le 100eme percentile : 9.0\n",
      "pour colonne: fare\n",
      "le 10eme percentile : 7.57\n",
      "le 20eme percentile : 7.8542\n",
      "le 30eme percentile : 8.05\n",
      "le 40eme percentile : 10.5\n",
      "le 50eme percentile : 14.4542\n",
      "le 60eme percentile : 21.6792\n",
      "le 70eme percentile : 27.0\n",
      "le 80eme percentile : 41.5792\n",
      "le 90eme percentile : 78.01998\n",
      "le 100eme percentile : 512.3292\n",
      "pour colonne: body\n",
      "le 10eme percentile : 160.8099173553719\n",
      "le 20eme percentile : 160.8099173553719\n",
      "le 30eme percentile : 160.8099173553719\n",
      "le 40eme percentile : 160.8099173553719\n",
      "le 50eme percentile : 160.8099173553719\n",
      "le 60eme percentile : 160.8099173553719\n",
      "le 70eme percentile : 160.8099173553719\n",
      "le 80eme percentile : 160.8099173553719\n",
      "le 90eme percentile : 160.8099173553719\n",
      "le 100eme percentile : 328.0\n"
     ]
    }
   ],
   "source": [
    "#f l'ensemble des deciles\n",
    "def titanic_deciles():\n",
    "    for column in titanic_numeric.columns:\n",
    "        print(f'pour colonne: {column}')\n",
    "        for i in range(10,110,10):\n",
    "            titanic_decile = np.percentile(titanic_numeric[column], i)\n",
    "            print(f'le {i}eme percentile : {titanic_decile}')\n",
    "titanic_deciles()"
   ]
  },
  {
   "cell_type": "code",
   "execution_count": 44,
   "id": "c9bc1cbf-c7da-40f4-a3a5-fad7af6071e1",
   "metadata": {},
   "outputs": [
    {
     "data": {
      "text/plain": [
       "160.8099173553719"
      ]
     },
     "execution_count": 44,
     "metadata": {},
     "output_type": "execute_result"
    }
   ],
   "source": [
    "titanic_moyenne('body')"
   ]
  },
  {
   "cell_type": "markdown",
   "id": "ae51ebfc-1730-4499-97ba-bd9229310eb7",
   "metadata": {},
   "source": [
    "*on peut s'assurer de ce calcul en voyant que le 100eme percentile correspond a la valeur max, ce qui est vrai pour notre dataset titanic. <br>\n",
    "on voit aussi pour la colonne body que la moyenne domine, cela est du au fait que cette colonne avait le plus grand nombre des valeurs NA qu'on a remplace avec la moyenne. <br>\n",
    "Ainsi, il est important de s'assurer de la logique de notre travail au fur et a mesure.*"
   ]
  },
  {
   "cell_type": "code",
   "execution_count": 47,
   "id": "39a95447-57f5-4143-9571-9fbb464f8279",
   "metadata": {},
   "outputs": [
    {
     "data": {
      "text/html": [
       "<div>\n",
       "<style scoped>\n",
       "    .dataframe tbody tr th:only-of-type {\n",
       "        vertical-align: middle;\n",
       "    }\n",
       "\n",
       "    .dataframe tbody tr th {\n",
       "        vertical-align: top;\n",
       "    }\n",
       "\n",
       "    .dataframe thead th {\n",
       "        text-align: right;\n",
       "    }\n",
       "</style>\n",
       "<table border=\"1\" class=\"dataframe\">\n",
       "  <thead>\n",
       "    <tr style=\"text-align: right;\">\n",
       "      <th></th>\n",
       "      <th>count</th>\n",
       "      <th>mean</th>\n",
       "      <th>std</th>\n",
       "      <th>min</th>\n",
       "      <th>25%</th>\n",
       "      <th>50%</th>\n",
       "      <th>75%</th>\n",
       "      <th>max</th>\n",
       "      <th>variance</th>\n",
       "      <th>mode</th>\n",
       "      <th>IQR</th>\n",
       "      <th>decile 10</th>\n",
       "      <th>decile 20</th>\n",
       "      <th>decile 30</th>\n",
       "      <th>decile 40</th>\n",
       "      <th>decile 50</th>\n",
       "      <th>decile 60</th>\n",
       "      <th>decile 70</th>\n",
       "      <th>decile 80</th>\n",
       "      <th>decile 90</th>\n",
       "    </tr>\n",
       "  </thead>\n",
       "  <tbody>\n",
       "    <tr>\n",
       "      <th>pclass</th>\n",
       "      <td>1309.0</td>\n",
       "      <td>2.294882</td>\n",
       "      <td>0.837836</td>\n",
       "      <td>1.0000</td>\n",
       "      <td>2.000000</td>\n",
       "      <td>3.000000</td>\n",
       "      <td>3.000000</td>\n",
       "      <td>3.0000</td>\n",
       "      <td>0.701969</td>\n",
       "      <td>3.000000</td>\n",
       "      <td>1.0000</td>\n",
       "      <td>1.000000</td>\n",
       "      <td>1.000000</td>\n",
       "      <td>2.000000</td>\n",
       "      <td>2.000000</td>\n",
       "      <td>3.000000</td>\n",
       "      <td>3.000000</td>\n",
       "      <td>3.000000</td>\n",
       "      <td>3.000000</td>\n",
       "      <td>3.000000</td>\n",
       "    </tr>\n",
       "    <tr>\n",
       "      <th>survived</th>\n",
       "      <td>1309.0</td>\n",
       "      <td>0.381971</td>\n",
       "      <td>0.486055</td>\n",
       "      <td>0.0000</td>\n",
       "      <td>0.000000</td>\n",
       "      <td>0.000000</td>\n",
       "      <td>1.000000</td>\n",
       "      <td>1.0000</td>\n",
       "      <td>0.236250</td>\n",
       "      <td>0.000000</td>\n",
       "      <td>1.0000</td>\n",
       "      <td>0.000000</td>\n",
       "      <td>0.000000</td>\n",
       "      <td>0.000000</td>\n",
       "      <td>0.000000</td>\n",
       "      <td>0.000000</td>\n",
       "      <td>0.000000</td>\n",
       "      <td>1.000000</td>\n",
       "      <td>1.000000</td>\n",
       "      <td>1.000000</td>\n",
       "    </tr>\n",
       "    <tr>\n",
       "      <th>age</th>\n",
       "      <td>1309.0</td>\n",
       "      <td>29.881135</td>\n",
       "      <td>12.883199</td>\n",
       "      <td>0.1667</td>\n",
       "      <td>22.000000</td>\n",
       "      <td>29.881135</td>\n",
       "      <td>35.000000</td>\n",
       "      <td>80.0000</td>\n",
       "      <td>165.976818</td>\n",
       "      <td>29.881135</td>\n",
       "      <td>13.0000</td>\n",
       "      <td>16.000000</td>\n",
       "      <td>21.000000</td>\n",
       "      <td>24.000000</td>\n",
       "      <td>28.000000</td>\n",
       "      <td>29.881135</td>\n",
       "      <td>29.881135</td>\n",
       "      <td>32.000000</td>\n",
       "      <td>39.000000</td>\n",
       "      <td>48.000000</td>\n",
       "    </tr>\n",
       "    <tr>\n",
       "      <th>sibsp</th>\n",
       "      <td>1309.0</td>\n",
       "      <td>0.498854</td>\n",
       "      <td>1.041658</td>\n",
       "      <td>0.0000</td>\n",
       "      <td>0.000000</td>\n",
       "      <td>0.000000</td>\n",
       "      <td>1.000000</td>\n",
       "      <td>8.0000</td>\n",
       "      <td>1.085052</td>\n",
       "      <td>0.000000</td>\n",
       "      <td>1.0000</td>\n",
       "      <td>0.000000</td>\n",
       "      <td>0.000000</td>\n",
       "      <td>0.000000</td>\n",
       "      <td>0.000000</td>\n",
       "      <td>0.000000</td>\n",
       "      <td>0.000000</td>\n",
       "      <td>1.000000</td>\n",
       "      <td>1.000000</td>\n",
       "      <td>1.000000</td>\n",
       "    </tr>\n",
       "    <tr>\n",
       "      <th>parch</th>\n",
       "      <td>1309.0</td>\n",
       "      <td>0.385027</td>\n",
       "      <td>0.865560</td>\n",
       "      <td>0.0000</td>\n",
       "      <td>0.000000</td>\n",
       "      <td>0.000000</td>\n",
       "      <td>0.000000</td>\n",
       "      <td>9.0000</td>\n",
       "      <td>0.749195</td>\n",
       "      <td>0.000000</td>\n",
       "      <td>0.0000</td>\n",
       "      <td>0.000000</td>\n",
       "      <td>0.000000</td>\n",
       "      <td>0.000000</td>\n",
       "      <td>0.000000</td>\n",
       "      <td>0.000000</td>\n",
       "      <td>0.000000</td>\n",
       "      <td>0.000000</td>\n",
       "      <td>1.000000</td>\n",
       "      <td>2.000000</td>\n",
       "    </tr>\n",
       "    <tr>\n",
       "      <th>fare</th>\n",
       "      <td>1309.0</td>\n",
       "      <td>33.295479</td>\n",
       "      <td>51.738879</td>\n",
       "      <td>0.0000</td>\n",
       "      <td>7.895800</td>\n",
       "      <td>14.454200</td>\n",
       "      <td>31.275000</td>\n",
       "      <td>512.3292</td>\n",
       "      <td>2676.911604</td>\n",
       "      <td>8.050000</td>\n",
       "      <td>23.3792</td>\n",
       "      <td>7.570000</td>\n",
       "      <td>7.854200</td>\n",
       "      <td>8.050000</td>\n",
       "      <td>10.500000</td>\n",
       "      <td>14.454200</td>\n",
       "      <td>21.679200</td>\n",
       "      <td>27.000000</td>\n",
       "      <td>41.579200</td>\n",
       "      <td>78.019980</td>\n",
       "    </tr>\n",
       "    <tr>\n",
       "      <th>body</th>\n",
       "      <td>1309.0</td>\n",
       "      <td>160.809917</td>\n",
       "      <td>29.591544</td>\n",
       "      <td>1.0000</td>\n",
       "      <td>160.809917</td>\n",
       "      <td>160.809917</td>\n",
       "      <td>160.809917</td>\n",
       "      <td>328.0000</td>\n",
       "      <td>875.659502</td>\n",
       "      <td>160.809917</td>\n",
       "      <td>0.0000</td>\n",
       "      <td>160.809917</td>\n",
       "      <td>160.809917</td>\n",
       "      <td>160.809917</td>\n",
       "      <td>160.809917</td>\n",
       "      <td>160.809917</td>\n",
       "      <td>160.809917</td>\n",
       "      <td>160.809917</td>\n",
       "      <td>160.809917</td>\n",
       "      <td>160.809917</td>\n",
       "    </tr>\n",
       "  </tbody>\n",
       "</table>\n",
       "</div>"
      ],
      "text/plain": [
       "           count        mean        std     min         25%         50%  \\\n",
       "pclass    1309.0    2.294882   0.837836  1.0000    2.000000    3.000000   \n",
       "survived  1309.0    0.381971   0.486055  0.0000    0.000000    0.000000   \n",
       "age       1309.0   29.881135  12.883199  0.1667   22.000000   29.881135   \n",
       "sibsp     1309.0    0.498854   1.041658  0.0000    0.000000    0.000000   \n",
       "parch     1309.0    0.385027   0.865560  0.0000    0.000000    0.000000   \n",
       "fare      1309.0   33.295479  51.738879  0.0000    7.895800   14.454200   \n",
       "body      1309.0  160.809917  29.591544  1.0000  160.809917  160.809917   \n",
       "\n",
       "                 75%       max     variance        mode      IQR   decile 10  \\\n",
       "pclass      3.000000    3.0000     0.701969    3.000000   1.0000    1.000000   \n",
       "survived    1.000000    1.0000     0.236250    0.000000   1.0000    0.000000   \n",
       "age        35.000000   80.0000   165.976818   29.881135  13.0000   16.000000   \n",
       "sibsp       1.000000    8.0000     1.085052    0.000000   1.0000    0.000000   \n",
       "parch       0.000000    9.0000     0.749195    0.000000   0.0000    0.000000   \n",
       "fare       31.275000  512.3292  2676.911604    8.050000  23.3792    7.570000   \n",
       "body      160.809917  328.0000   875.659502  160.809917   0.0000  160.809917   \n",
       "\n",
       "           decile 20   decile 30   decile 40   decile 50   decile 60  \\\n",
       "pclass      1.000000    2.000000    2.000000    3.000000    3.000000   \n",
       "survived    0.000000    0.000000    0.000000    0.000000    0.000000   \n",
       "age        21.000000   24.000000   28.000000   29.881135   29.881135   \n",
       "sibsp       0.000000    0.000000    0.000000    0.000000    0.000000   \n",
       "parch       0.000000    0.000000    0.000000    0.000000    0.000000   \n",
       "fare        7.854200    8.050000   10.500000   14.454200   21.679200   \n",
       "body      160.809917  160.809917  160.809917  160.809917  160.809917   \n",
       "\n",
       "           decile 70   decile 80   decile 90  \n",
       "pclass      3.000000    3.000000    3.000000  \n",
       "survived    1.000000    1.000000    1.000000  \n",
       "age        32.000000   39.000000   48.000000  \n",
       "sibsp       1.000000    1.000000    1.000000  \n",
       "parch       0.000000    1.000000    2.000000  \n",
       "fare       27.000000   41.579200   78.019980  \n",
       "body      160.809917  160.809917  160.809917  "
      ]
     },
     "execution_count": 47,
     "metadata": {},
     "output_type": "execute_result"
    }
   ],
   "source": [
    "#g parametres de dispersion et de tendance centrale\n",
    "titanic_description = titanic_numeric.describe().T\n",
    "titanic_description['variance'] = titanic_numeric.var()\n",
    "titanic_description['mode'] = titanic_numeric.mode().iloc[0]\n",
    "titanic_description['IQR'] = titanic_description['75%'] - titanic_description['25%']\n",
    "for i in range(10, 100, 10):\n",
    "    titanic_description[f\"decile {i}\"] = titanic_numeric.quantile(i/100)\n",
    "titanic_description"
   ]
  },
  {
   "cell_type": "markdown",
   "id": "37d443f6-05f9-4390-a011-f4fc83bdd67f",
   "metadata": {},
   "source": [
    "*ainsi, on a une vue globale des parametres de dispersion et de tendance centrale. Premierement avec .describe() et ensuite en ajoutant les colonnes des valeurs manquantes.*"
   ]
  },
  {
   "cell_type": "code",
   "execution_count": 50,
   "id": "b3894ff0-11db-4493-8934-7fe52a686b88",
   "metadata": {},
   "outputs": [
    {
     "data": {
      "text/plain": [
       "sex\n",
       "male      843\n",
       "female    466\n",
       "Name: count, dtype: int64"
      ]
     },
     "execution_count": 50,
     "metadata": {},
     "output_type": "execute_result"
    }
   ],
   "source": [
    "#7 nombre de personnes selon leurs sexes\n",
    "titanic['sex'].value_counts()"
   ]
  },
  {
   "cell_type": "code",
   "execution_count": 52,
   "id": "6a4cf510-083d-447d-bc59-4f7d5664e3d5",
   "metadata": {},
   "outputs": [],
   "source": [
    "import matplotlib.pyplot as plt\n",
    "import seaborn as sns"
   ]
  },
  {
   "cell_type": "code",
   "execution_count": 54,
   "id": "e28ac242-c432-41cd-961f-b401bfac4c6c",
   "metadata": {},
   "outputs": [
    {
     "data": {
      "image/png": "[encoded data removed]",
      "text/plain": [
       "<Figure size 640x480 with 1 Axes>"
      ]
     },
     "metadata": {},
     "output_type": "display_data"
    }
   ],
   "source": [
    "#8 representation graphique pour sex, survived\n",
    "survived_sex = titanic.groupby(['survived', 'sex']).size().unstack()\n",
    "survived_sex\n",
    "survived_sex.plot.bar(stacked = True, color=['pink', 'lightblue'])\n",
    "plt.title('Nombres de Survivants Par Sexe')\n",
    "plt.ylabel('Survie')\n",
    "plt.xticks(ticks = [0,1], labels=['N\\'a pas survecu', 'A survecu'], rotation = 0)\n",
    "plt.legend()\n",
    "plt.show()"
   ]
  },
  {
   "cell_type": "code",
   "execution_count": 55,
   "id": "91c68975-2234-422e-b320-248baa8ce982",
   "metadata": {},
   "outputs": [
    {
     "data": {
      "image/png": "[encoded data removed]",
      "text/plain": [
       "<Figure size 640x480 with 1 Axes>"
      ]
     },
     "metadata": {},
     "output_type": "display_data"
    }
   ],
   "source": [
    "#9 representation graphique de l'age\n",
    "sns.histplot(titanic['age'])\n",
    "plt.title('Distribution de l\\'Age des Passagers du Titanic')\n",
    "plt.show()"
   ]
  },
  {
   "cell_type": "code",
   "execution_count": 57,
   "id": "cad698e9-8d36-4b17-8fd9-8c084dd3a7a7",
   "metadata": {},
   "outputs": [
    {
     "data": {
      "text/plain": [
       "Text(0.5, 1.0, \"Boîte à moustache de l'âge\")"
      ]
     },
     "execution_count": 57,
     "metadata": {},
     "output_type": "execute_result"
    },
    {
     "data": {
      "image/png": "[encoded data removed]",
      "text/plain": [
       "<Figure size 640x480 with 1 Axes>"
      ]
     },
     "metadata": {},
     "output_type": "display_data"
    }
   ],
   "source": [
    "# box plot de l'age\n",
    "sns.boxplot(titanic['age'])\n",
    "plt.title(\"Boîte à moustache de l'âge\")"
   ]
  },
  {
   "cell_type": "code",
   "execution_count": 59,
   "id": "cec7b9da-4c02-46c0-8aef-4af3a14c7c91",
   "metadata": {},
   "outputs": [
    {
     "data": {
      "image/png": "[encoded data removed]",
      "text/plain": [
       "<Figure size 1000x500 with 2 Axes>"
      ]
     },
     "metadata": {},
     "output_type": "display_data"
    }
   ],
   "source": [
    "# groupement\n",
    "f, axes = plt.subplots(1,2, figsize=(10,5))\n",
    "\n",
    "sns.histplot(titanic['age'], ax=axes[0])\n",
    "axes[0].set_title('Distribution de l\\'age')\n",
    "\n",
    "sns.boxplot(titanic['age'], ax=axes[1])\n",
    "axes[0].set_title('Boxplot de l\\'age')\n",
    "\n",
    "plt.tight_layout()\n",
    "plt.show()"
   ]
  },
  {
   "cell_type": "code",
   "execution_count": 66,
   "id": "7b257099-98a9-45f2-888f-481aa470c531",
   "metadata": {},
   "outputs": [
    {
     "name": "stdout",
     "output_type": "stream",
     "text": [
      "moyenne d'age des survivants et decedes: survived  sex   \n",
      "0         female    26.384371\n",
      "          male      31.135167\n",
      "1         female    29.824474\n",
      "          male      27.446643\n",
      "Name: age, dtype: float64\n"
     ]
    }
   ],
   "source": [
    "#10 age moyen des survivants et decedes par sexe\n",
    "moyenne_age_sexe = titanic.groupby(['survived', 'sex'])['age'].mean()\n",
    "print(f'moyenne d\\'age des survivants et decedes: {moyenne_age_sexe}')"
   ]
  },
  {
   "cell_type": "code",
   "execution_count": 68,
   "id": "16d00a98-e3c4-4d36-8418-300cdc139597",
   "metadata": {},
   "outputs": [
    {
     "name": "stdout",
     "output_type": "stream",
     "text": [
      "pclass\n",
      "3    709\n",
      "1    323\n",
      "2    277\n",
      "Name: count, dtype: int64\n"
     ]
    }
   ],
   "source": [
    "#11 description classe tarifaire des passagers\n",
    "print(titanic['pclass'].value_counts())"
   ]
  },
  {
   "cell_type": "code",
   "execution_count": 106,
   "id": "38f8ee82-8a0b-4df9-a764-161772a882ab",
   "metadata": {},
   "outputs": [
    {
     "name": "stdout",
     "output_type": "stream",
     "text": [
      "pclass\n",
      "1    61.919505\n",
      "2    42.960289\n",
      "3    25.528914\n",
      "Name: survived, dtype: float64\n"
     ]
    }
   ],
   "source": [
    "#12 relation entre classe et taux de survie \n",
    "taux_survie = titanic.groupby('pclass')['survived'].mean()*100\n",
    "print(f'{taux_survie}')"
   ]
  },
  {
   "cell_type": "markdown",
   "id": "e719cf77-11d5-49ca-b9bb-c48125873762",
   "metadata": {},
   "source": [
    "*on remarque que la classe la plus luxueuse contient le plus grand nombre des passagers qui ont survecu.*"
   ]
  },
  {
   "cell_type": "code",
   "execution_count": 123,
   "id": "7a711154-ff44-42a2-a0b0-5903c00fb5ac",
   "metadata": {},
   "outputs": [
    {
     "data": {
      "image/png": "[encoded data removed]",
      "text/plain": [
       "<Figure size 640x480 with 1 Axes>"
      ]
     },
     "metadata": {},
     "output_type": "display_data"
    }
   ],
   "source": [
    "sns.barplot(x=taux_survie.index, y=taux_survie.values)\n",
    "plt.xlabel(\"Classe des passagers\")\n",
    "plt.ylabel(\"Taux de survie (%)\")\n",
    "plt.title(\"Taux de survie par classe de passager\")\n",
    "plt.show()"
   ]
  },
  {
   "cell_type": "code",
   "execution_count": 129,
   "id": "f2f67e9a-50a2-4f41-b736-0518fb7918bc",
   "metadata": {},
   "outputs": [
    {
     "data": {
      "image/png": "[encoded data removed]",
      "text/plain": [
       "<Figure size 640x480 with 1 Axes>"
      ]
     },
     "metadata": {},
     "output_type": "display_data"
    }
   ],
   "source": [
    "#13 distribution des passagers selon leurs classes\n",
    "sns.countplot(x=titanic[\"pclass\"])\n",
    "plt.xlabel(\"Classe des passagers\")\n",
    "plt.ylabel(\"Nombre de passagers\")\n",
    "plt.title(\"Distribution des passagers par classe\")\n",
    "plt.show()"
   ]
  },
  {
   "cell_type": "markdown",
   "id": "f9a8b4f9-911c-4c3a-bfe9-2d4701a9d4f0",
   "metadata": {},
   "source": [
    "*La majorité des passagers etaient en 3ème classe. Et le moins de passagers sont en 1ère classe.*"
   ]
  },
  {
   "cell_type": "code",
   "execution_count": 150,
   "id": "6c084335-d436-4938-bc29-669724b2b212",
   "metadata": {},
   "outputs": [
    {
     "name": "stderr",
     "output_type": "stream",
     "text": [
      "C:\\Users\\leila\\AppData\\Local\\Temp\\ipykernel_11740\\1285799204.py:2: FutureWarning: \n",
      "\n",
      "Passing `palette` without assigning `hue` is deprecated and will be removed in v0.14.0. Assign the `x` variable to `hue` and set `legend=False` for the same effect.\n",
      "\n",
      "  sns.boxplot(x=titanic[\"pclass\"], y=titanic[\"fare\"], palette=\"muted\")\n"
     ]
    },
    {
     "data": {
      "image/png": "[encoded data removed]",
      "text/plain": [
       "<Figure size 640x480 with 1 Axes>"
      ]
     },
     "metadata": {},
     "output_type": "display_data"
    }
   ],
   "source": [
    "#14 relation entre prix du billet et classe des passagers\n",
    "sns.boxplot(x=titanic[\"pclass\"], y=titanic[\"fare\"], palette=\"muted\")\n",
    "plt.xlabel(\"Classe des passagers\")\n",
    "plt.ylabel(\"Prix du billet\")\n",
    "plt.title(\"Prix du billet par classe de passager\")\n",
    "plt.yscale(\"log\")  # Mettre l'échelle logarithmique pour mieux visualiser\n",
    "plt.show()"
   ]
  },
  {
   "cell_type": "markdown",
   "id": "a770ec35-4f20-453a-ab5c-7d997aba96e1",
   "metadata": {},
   "source": [
    "*1ere classe → Billets chers avec une grande variation.\n",
    "2eme classe → Billets moins chers mais assez élevés.\n",
    "3eme classe → Billets les moins chers, souvent inférieurs à 20€.*"
   ]
  },
  {
   "cell_type": "markdown",
   "id": "086a02db-2b8c-40af-bc39-6baa633e7688",
   "metadata": {},
   "source": [
    "*fin du tp 3 - theorie et traitement de l'information*"
   ]
  }
 ],
 "metadata": {
  "kernelspec": {
   "display_name": "Python [conda env:base] *",
   "language": "python",
   "name": "conda-base-py"
  },
  "language_info": {
   "codemirror_mode": {
    "name": "ipython",
    "version": 3
   },
   "file_extension": ".py",
   "mimetype": "text/x-python",
   "name": "python",
   "nbconvert_exporter": "python",
   "pygments_lexer": "ipython3",
   "version": "3.12.7"
  }
 },
 "nbformat": 4,
 "nbformat_minor": 5
}
