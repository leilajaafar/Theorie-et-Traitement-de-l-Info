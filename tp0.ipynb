{
 "cells": [
  {
   "cell_type": "code",
   "execution_count": 1,
   "id": "d69daa77-d689-46fd-89c3-0f058b9dd553",
   "metadata": {},
   "outputs": [
    {
     "data": {
      "text/plain": [
       "[1, 2, 3, 4, 5, 6, 7, 8, 9, 10]"
      ]
     },
     "execution_count": 1,
     "metadata": {},
     "output_type": "execute_result"
    }
   ],
   "source": [
    "# exo 1\n",
    "list_num = list(range(1,11))\n",
    "list_num "
   ]
  },
  {
   "cell_type": "code",
   "execution_count": 2,
   "id": "03558bb9-3a5f-4d6c-b3af-eadc903f7c22",
   "metadata": {},
   "outputs": [
    {
     "data": {
      "text/plain": [
       "'Charlie'"
      ]
     },
     "execution_count": 2,
     "metadata": {},
     "output_type": "execute_result"
    }
   ],
   "source": [
    "# exo 2\n",
    "list_name = [\"Alice\", \"Bob\", \"Charlie\", \"David\"]\n",
    "list_name[2]"
   ]
  },
  {
   "cell_type": "code",
   "execution_count": 3,
   "id": "f21bc06b-ccb2-43fd-ba49-3e93ea0ec9e7",
   "metadata": {},
   "outputs": [
    {
     "data": {
      "text/plain": [
       "['Francois', 'Alice', 'Bob', 'Charlie', 'David', 'Eve']"
      ]
     },
     "execution_count": 3,
     "metadata": {},
     "output_type": "execute_result"
    }
   ],
   "source": [
    "# exo 3\n",
    "list_name.append(\"Eve\")\n",
    "list_name.insert(0, \"Francois\")\n",
    "list_name"
   ]
  },
  {
   "cell_type": "code",
   "execution_count": 7,
   "id": "643b05fa-6d06-4eef-9416-d3f5c2a3d5d6",
   "metadata": {},
   "outputs": [
    {
     "data": {
      "text/plain": [
       "[4, 1, 5]"
      ]
     },
     "execution_count": 7,
     "metadata": {},
     "output_type": "execute_result"
    }
   ],
   "source": [
    "# exo 4\n",
    "list_number = [4,7,1,8,5]\n",
    "list_number.remove(7) \n",
    "list_number.pop(2) # list_number.remove(list_number[2])\n",
    "list_number"
   ]
  },
  {
   "cell_type": "code",
   "execution_count": 8,
   "id": "4597b19c-2079-414e-80b5-740e1cb01ed9",
   "metadata": {},
   "outputs": [
    {
     "data": {
      "text/plain": [
       "[10, 25, 30, 40, 50]"
      ]
     },
     "execution_count": 8,
     "metadata": {},
     "output_type": "execute_result"
    }
   ],
   "source": [
    "# exo 5\n",
    "# list_of_num = [10, 20, 30, 40, 50] \n",
    "list_of_num = list(range(10,60,10))\n",
    "list_of_num[1] = 25\n",
    "list_of_num"
   ]
  },
  {
   "cell_type": "code",
   "execution_count": 15,
   "id": "b370166d-f5f5-4023-8028-0546bd37ff9d",
   "metadata": {},
   "outputs": [
    {
     "name": "stdout",
     "output_type": "stream",
     "text": [
      "[2, 4, 6, 8, 10]\n",
      "[6, 7, 8, 9, 10]\n"
     ]
    }
   ],
   "source": [
    "# exo 6\n",
    "lists = list(range(1,11))\n",
    "lists_copy = lists.copy()\n",
    "for l in lists:\n",
    "    if not l%2 == 0:\n",
    "        lists.remove(l)\n",
    "print(lists)\n",
    "\n",
    "lists_copy = [l for l in lists_copy if l>5]\n",
    "print(lists_copy)"
   ]
  },
  {
   "cell_type": "code",
   "execution_count": 17,
   "id": "fe3d4529-4f80-4979-877b-eb6173ef17be",
   "metadata": {},
   "outputs": [
    {
     "name": "stdout",
     "output_type": "stream",
     "text": [
      "[6, 7, 8, 9, 10]\n"
     ]
    }
   ],
   "source": [
    "new_list = []\n",
    "for l in lists_copy:\n",
    "    while l>5:\n",
    "        new_list.append(l)\n",
    "        break\n",
    "print(new_list)"
   ]
  },
  {
   "cell_type": "code",
   "execution_count": null,
   "id": "02ced523-a825-47b9-bc5f-9ccda735c39e",
   "metadata": {},
   "outputs": [],
   "source": [
    "# exo 7\n",
    "names = [\"Marie\", \"Jean\", \"Sophie\", \"Paul\"]"
   ]
  }
 ],
 "metadata": {
  "kernelspec": {
   "display_name": "Python [conda env:base] *",
   "language": "python",
   "name": "conda-base-py"
  },
  "language_info": {
   "codemirror_mode": {
    "name": "ipython",
    "version": 3
   },
   "file_extension": ".py",
   "mimetype": "text/x-python",
   "name": "python",
   "nbconvert_exporter": "python",
   "pygments_lexer": "ipython3",
   "version": "3.12.7"
  }
 },
 "nbformat": 4,
 "nbformat_minor": 5
}
